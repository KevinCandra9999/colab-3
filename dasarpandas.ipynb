{
  "nbformat": 4,
  "nbformat_minor": 0,
  "metadata": {
    "colab": {
      "provenance": [],
      "authorship_tag": "ABX9TyPji9hOqosczycnUSU8u/Mn",
      "include_colab_link": true
    },
    "kernelspec": {
      "name": "python3",
      "display_name": "Python 3"
    },
    "language_info": {
      "name": "python"
    }
  },
  "cells": [
    {
      "cell_type": "markdown",
      "metadata": {
        "id": "view-in-github",
        "colab_type": "text"
      },
      "source": [
        "<a href=\"https://colab.research.google.com/github/KevinCandra9999/colab-3/blob/main/dasarpandas.ipynb\" target=\"_parent\"><img src=\"https://colab.research.google.com/assets/colab-badge.svg\" alt=\"Open In Colab\"/></a>"
      ]
    },
    {
      "cell_type": "markdown",
      "source": [
        "menambahkan pandas"
      ],
      "metadata": {
        "id": "9wNHV-xLjeVk"
      }
    },
    {
      "cell_type": "code",
      "execution_count": 6,
      "metadata": {
        "id": "6AceN-Riil_S"
      },
      "outputs": [],
      "source": [
        "import pandas as pd"
      ]
    },
    {
      "cell_type": "code",
      "source": [
        "print(pd.__version__)"
      ],
      "metadata": {
        "colab": {
          "base_uri": "https://localhost:8080/"
        },
        "id": "oEqqr8WojF8f",
        "outputId": "dbaebfc1-98af-40cc-d384-1c1f210c99cf"
      },
      "execution_count": 7,
      "outputs": [
        {
          "output_type": "stream",
          "name": "stdout",
          "text": [
            "1.5.3\n"
          ]
        }
      ]
    },
    {
      "cell_type": "markdown",
      "source": [
        "\n",
        "mengenal series\n"
      ],
      "metadata": {
        "id": "LAFU0IuxjjGB"
      }
    },
    {
      "cell_type": "code",
      "source": [
        "teman = ['jajang', 'jijing', 'jujung', 'jojong']"
      ],
      "metadata": {
        "id": "Zp9Hf3TskA2O"
      },
      "execution_count": 8,
      "outputs": []
    },
    {
      "cell_type": "code",
      "source": [
        "type(teman)"
      ],
      "metadata": {
        "colab": {
          "base_uri": "https://localhost:8080/"
        },
        "id": "-ObWNNx7knkX",
        "outputId": "8c5bbf5d-c4ad-4802-f932-d7a8bb21253a"
      },
      "execution_count": 11,
      "outputs": [
        {
          "output_type": "execute_result",
          "data": {
            "text/plain": [
              "list"
            ]
          },
          "metadata": {},
          "execution_count": 11
        }
      ]
    },
    {
      "cell_type": "code",
      "source": [
        "pd.Series(teman)"
      ],
      "metadata": {
        "colab": {
          "base_uri": "https://localhost:8080/"
        },
        "id": "zIDfc-P1jao5",
        "outputId": "bec3d3f9-1f0a-458e-bce5-6b60e119dee3"
      },
      "execution_count": 10,
      "outputs": [
        {
          "output_type": "execute_result",
          "data": {
            "text/plain": [
              "0    jajang\n",
              "1    jijing\n",
              "2    jujung\n",
              "3    jojong\n",
              "dtype: object"
            ]
          },
          "metadata": {},
          "execution_count": 10
        }
      ]
    },
    {
      "cell_type": "code",
      "source": [
        "usia = [17, 21, 33, 44]"
      ],
      "metadata": {
        "id": "F-J08XijkeIu"
      },
      "execution_count": 12,
      "outputs": []
    },
    {
      "cell_type": "code",
      "source": [
        "pd.Series(usia)"
      ],
      "metadata": {
        "colab": {
          "base_uri": "https://localhost:8080/"
        },
        "id": "nT6DvA6pk1SH",
        "outputId": "aeb73cbd-ddd9-414d-8208-f07cd490e59d"
      },
      "execution_count": 14,
      "outputs": [
        {
          "output_type": "execute_result",
          "data": {
            "text/plain": [
              "0    17\n",
              "1    21\n",
              "2    33\n",
              "3    44\n",
              "dtype: int64"
            ]
          },
          "metadata": {},
          "execution_count": 14
        }
      ]
    },
    {
      "cell_type": "code",
      "source": [
        "tinggi_badan = [164.7, 170.4, 180.7, 183.8]"
      ],
      "metadata": {
        "id": "ww4NzQpWk2wv"
      },
      "execution_count": 16,
      "outputs": []
    },
    {
      "cell_type": "code",
      "source": [
        "pd.Series(tinggi_badan)"
      ],
      "metadata": {
        "colab": {
          "base_uri": "https://localhost:8080/"
        },
        "id": "bVNwBLhnlIJs",
        "outputId": "8b4bdad9-5549-4cbe-eebc-905de7f8afe0"
      },
      "execution_count": 17,
      "outputs": [
        {
          "output_type": "execute_result",
          "data": {
            "text/plain": [
              "0    164.7\n",
              "1    170.4\n",
              "2    180.7\n",
              "3    183.8\n",
              "dtype: float64"
            ]
          },
          "metadata": {},
          "execution_count": 17
        }
      ]
    },
    {
      "cell_type": "code",
      "source": [
        "data_acak = [1,'yogyakarta', 18.5, {'kondisi':100}]"
      ],
      "metadata": {
        "id": "gKtrqYOrlOsO"
      },
      "execution_count": 19,
      "outputs": []
    },
    {
      "cell_type": "code",
      "source": [
        "pd.Series(data_acak)"
      ],
      "metadata": {
        "colab": {
          "base_uri": "https://localhost:8080/"
        },
        "id": "F95w93D5lfyg",
        "outputId": "dfac6ca6-1462-4cd5-de4e-9cdb35937d71"
      },
      "execution_count": 21,
      "outputs": [
        {
          "output_type": "execute_result",
          "data": {
            "text/plain": [
              "0                   1\n",
              "1          yogyakarta\n",
              "2                18.5\n",
              "3    {'kondisi': 100}\n",
              "dtype: object"
            ]
          },
          "metadata": {},
          "execution_count": 21
        }
      ]
    },
    {
      "cell_type": "markdown",
      "source": [
        "tugas 1"
      ],
      "metadata": {
        "id": "AoZdtmlgmJkv"
      }
    },
    {
      "cell_type": "code",
      "source": [
        "import pandas as pd\n",
        "sahabat = ['Joni', 'Edi', 'Siti']\n",
        "pd.Series(sahabat)"
      ],
      "metadata": {
        "colab": {
          "base_uri": "https://localhost:8080/"
        },
        "id": "eZTTWl59lpkj",
        "outputId": "dbeff2a8-3ed0-4736-e577-34d7f035f1c6"
      },
      "execution_count": 22,
      "outputs": [
        {
          "output_type": "execute_result",
          "data": {
            "text/plain": [
              "0    Joni\n",
              "1     Edi\n",
              "2    Siti\n",
              "dtype: object"
            ]
          },
          "metadata": {},
          "execution_count": 22
        }
      ]
    },
    {
      "cell_type": "code",
      "source": [
        "import pandas as pd\n",
        "sahabat = ['Joni', 'Edi', 'Siti']\n",
        "sahabat = sahabat + ['Fredi', 'Ucok']\n",
        "pd.Series(sahabat)"
      ],
      "metadata": {
        "colab": {
          "base_uri": "https://localhost:8080/"
        },
        "id": "pdtCttremMzJ",
        "outputId": "7cf8e612-7ea4-43fd-d53a-42120a08b1bf"
      },
      "execution_count": 23,
      "outputs": [
        {
          "output_type": "execute_result",
          "data": {
            "text/plain": [
              "0     Joni\n",
              "1      Edi\n",
              "2     Siti\n",
              "3    Fredi\n",
              "4     Ucok\n",
              "dtype: object"
            ]
          },
          "metadata": {},
          "execution_count": 23
        }
      ]
    },
    {
      "cell_type": "markdown",
      "source": [
        "Mengenal Karakteristik data"
      ],
      "metadata": {
        "id": "6p0MRHP0mSWE"
      }
    },
    {
      "cell_type": "code",
      "source": [
        "teman = ['jajang', 'jijing', 'jujung', 'jojong']"
      ],
      "metadata": {
        "id": "F3J0oQnUmP_X"
      },
      "execution_count": 24,
      "outputs": []
    },
    {
      "cell_type": "code",
      "source": [
        "teman_akrab = {0:'jajang', 1:'jijing', 2:'jujung', 3:'jojong'}"
      ],
      "metadata": {
        "id": "J0L9XDcUnkGD"
      },
      "execution_count": 26,
      "outputs": []
    },
    {
      "cell_type": "code",
      "source": [
        "a=pd.Series(teman)\n",
        "b=pd.Series(teman_akrab)"
      ],
      "metadata": {
        "id": "yM-0MVekn3Fa"
      },
      "execution_count": 28,
      "outputs": []
    },
    {
      "cell_type": "code",
      "source": [
        "a.equals(b)"
      ],
      "metadata": {
        "colab": {
          "base_uri": "https://localhost:8080/"
        },
        "id": "bCrH6XTrn_09",
        "outputId": "3dd3e11b-5f58-43fa-fb33-789bc9ffda56"
      },
      "execution_count": 29,
      "outputs": [
        {
          "output_type": "execute_result",
          "data": {
            "text/plain": [
              "True"
            ]
          },
          "metadata": {},
          "execution_count": 29
        }
      ]
    },
    {
      "cell_type": "markdown",
      "source": [
        "index dan rangeindex"
      ],
      "metadata": {
        "id": "kihqxlGloZqY"
      }
    },
    {
      "cell_type": "code",
      "source": [
        "teman = ['jajang', 'jijing', 'jujung', 'jojong']"
      ],
      "metadata": {
        "id": "v3mxweaSoLoN"
      },
      "execution_count": 30,
      "outputs": []
    },
    {
      "cell_type": "code",
      "source": [
        "pd.Series(data=teman, index=['teman1', 'teman2', 'teman3', 'teman4'])"
      ],
      "metadata": {
        "colab": {
          "base_uri": "https://localhost:8080/"
        },
        "id": "3FwBhwjzo_av",
        "outputId": "f980912a-2b8e-459e-dd81-cb8e7f9c2236"
      },
      "execution_count": 32,
      "outputs": [
        {
          "output_type": "execute_result",
          "data": {
            "text/plain": [
              "teman1    jajang\n",
              "teman2    jijing\n",
              "teman3    jujung\n",
              "teman4    jojong\n",
              "dtype: object"
            ]
          },
          "metadata": {},
          "execution_count": 32
        }
      ]
    },
    {
      "cell_type": "code",
      "source": [
        "pd.Series(teman).index"
      ],
      "metadata": {
        "colab": {
          "base_uri": "https://localhost:8080/"
        },
        "id": "bC2rolQgpQIl",
        "outputId": "dd36e0fb-0b1c-4ce6-ebe3-153f2a57d3d3"
      },
      "execution_count": 34,
      "outputs": [
        {
          "output_type": "execute_result",
          "data": {
            "text/plain": [
              "RangeIndex(start=0, stop=4, step=1)"
            ]
          },
          "metadata": {},
          "execution_count": 34
        }
      ]
    },
    {
      "cell_type": "code",
      "source": [
        "pd.RangeIndex(start=5, stop=8, step=1)"
      ],
      "metadata": {
        "colab": {
          "base_uri": "https://localhost:8080/"
        },
        "id": "DXMj7UQTph3g",
        "outputId": "84989070-0802-48a1-a980-249fc1eb6f7d"
      },
      "execution_count": 36,
      "outputs": [
        {
          "output_type": "execute_result",
          "data": {
            "text/plain": [
              "RangeIndex(start=5, stop=8, step=1)"
            ]
          },
          "metadata": {},
          "execution_count": 36
        }
      ]
    },
    {
      "cell_type": "code",
      "source": [
        "list(pd.RangeIndex(start=5, stop=8, step=1))"
      ],
      "metadata": {
        "colab": {
          "base_uri": "https://localhost:8080/"
        },
        "id": "tBmV69DrqNOe",
        "outputId": "fa39f317-2081-49ec-a928-7545cb2257b7"
      },
      "execution_count": 38,
      "outputs": [
        {
          "output_type": "execute_result",
          "data": {
            "text/plain": [
              "[5, 6, 7]"
            ]
          },
          "metadata": {},
          "execution_count": 38
        }
      ]
    },
    {
      "cell_type": "markdown",
      "source": [
        "memberi nama pada series"
      ],
      "metadata": {
        "id": "LhD1Vw20rINx"
      }
    },
    {
      "cell_type": "code",
      "source": [
        "namateman = pd.Series(teman)\n",
        "namateman.name = 'Daftar Teman Akrab'\n",
        "namateman"
      ],
      "metadata": {
        "colab": {
          "base_uri": "https://localhost:8080/"
        },
        "id": "Ryj6YdgvqpcD",
        "outputId": "9446b16a-f50c-46a6-e557-19cc79d36846"
      },
      "execution_count": 42,
      "outputs": [
        {
          "output_type": "execute_result",
          "data": {
            "text/plain": [
              "0    jajang\n",
              "1    jijing\n",
              "2    jujung\n",
              "3    jojong\n",
              "Name: Daftar Teman Akrab, dtype: object"
            ]
          },
          "metadata": {},
          "execution_count": 42
        }
      ]
    },
    {
      "cell_type": "code",
      "source": [
        "namateman.index.name= 'nomor urut teman'\n",
        "namateman"
      ],
      "metadata": {
        "colab": {
          "base_uri": "https://localhost:8080/"
        },
        "id": "QrVV_z4nrPYd",
        "outputId": "23578b98-a547-44f1-cb6e-68d74c2a5e54"
      },
      "execution_count": 43,
      "outputs": [
        {
          "output_type": "execute_result",
          "data": {
            "text/plain": [
              "nomor urut teman\n",
              "0    jajang\n",
              "1    jijing\n",
              "2    jujung\n",
              "3    jojong\n",
              "Name: Daftar Teman Akrab, dtype: object"
            ]
          },
          "metadata": {},
          "execution_count": 43
        }
      ]
    },
    {
      "cell_type": "markdown",
      "source": [
        "menggunakan head() dan tail() method"
      ],
      "metadata": {
        "id": "H8cOZ2GMr4Mp"
      }
    },
    {
      "cell_type": "code",
      "source": [
        "angka = pd.Series(range(100))"
      ],
      "metadata": {
        "id": "nfjZ4CA1rrYG"
      },
      "execution_count": 47,
      "outputs": []
    },
    {
      "cell_type": "code",
      "source": [
        "angka.head(10)\n"
      ],
      "metadata": {
        "colab": {
          "base_uri": "https://localhost:8080/"
        },
        "id": "KbMmVr3VsRlZ",
        "outputId": "da40e46e-a847-4921-fb95-e1b8dce02852"
      },
      "execution_count": 51,
      "outputs": [
        {
          "output_type": "execute_result",
          "data": {
            "text/plain": [
              "0    0\n",
              "1    1\n",
              "2    2\n",
              "3    3\n",
              "4    4\n",
              "5    5\n",
              "6    6\n",
              "7    7\n",
              "8    8\n",
              "9    9\n",
              "dtype: int64"
            ]
          },
          "metadata": {},
          "execution_count": 51
        }
      ]
    },
    {
      "cell_type": "code",
      "source": [
        "angka.tail(11)"
      ],
      "metadata": {
        "colab": {
          "base_uri": "https://localhost:8080/"
        },
        "id": "YnRn5DLOsibw",
        "outputId": "c5ca840e-7183-4812-f9c4-c5599acc912f"
      },
      "execution_count": 53,
      "outputs": [
        {
          "output_type": "execute_result",
          "data": {
            "text/plain": [
              "89    89\n",
              "90    90\n",
              "91    91\n",
              "92    92\n",
              "93    93\n",
              "94    94\n",
              "95    95\n",
              "96    96\n",
              "97    97\n",
              "98    98\n",
              "99    99\n",
              "dtype: int64"
            ]
          },
          "metadata": {},
          "execution_count": 53
        }
      ]
    },
    {
      "cell_type": "code",
      "source": [],
      "metadata": {
        "id": "LdEvo0eLszoH"
      },
      "execution_count": null,
      "outputs": []
    }
  ]
}