{
  "nbformat": 4,
  "nbformat_minor": 0,
  "metadata": {
    "colab": {
      "provenance": [],
      "authorship_tag": "ABX9TyOYLM//f3DiKp+AykrfRT/L",
      "include_colab_link": true
    },
    "kernelspec": {
      "name": "python3",
      "display_name": "Python 3"
    },
    "language_info": {
      "name": "python"
    }
  },
  "cells": [
    {
      "cell_type": "markdown",
      "metadata": {
        "id": "view-in-github",
        "colab_type": "text"
      },
      "source": [
        "<a href=\"https://colab.research.google.com/github/KevinCandra9999/colab-3/blob/main/pengantar_data_pada_phyton.ipynb\" target=\"_parent\"><img src=\"https://colab.research.google.com/assets/colab-badge.svg\" alt=\"Open In Colab\"/></a>"
      ]
    },
    {
      "cell_type": "markdown",
      "source": [
        "### Pengantar Phyton"
      ],
      "metadata": {
        "id": "CdIVYXPQ97_a"
      }
    },
    {
      "cell_type": "markdown",
      "source": [
        "Memahami list"
      ],
      "metadata": {
        "id": "gDj9lyq_0pcy"
      }
    },
    {
      "cell_type": "code",
      "execution_count": null,
      "metadata": {
        "id": "0LcIOrdPqTPZ",
        "colab": {
          "base_uri": "https://localhost:8080/"
        },
        "outputId": "4f1facbe-c6db-49b6-97a6-678088a9dbc9"
      },
      "outputs": [
        {
          "output_type": "stream",
          "name": "stdout",
          "text": [
            "[['Joni Gudel', 27], ['Mimin Item', 10]]\n"
          ]
        }
      ],
      "source": [
        "joni = ['Joni Gudel', 27]\n",
        "mimin = ['Mimin Item', 10]\n",
        "database = [joni, mimin]\n",
        "print (database)"
      ]
    },
    {
      "cell_type": "markdown",
      "source": [
        "mengenal indexing"
      ],
      "metadata": {
        "id": "AGgNWgk90uUc"
      }
    },
    {
      "cell_type": "code",
      "source": [
        "nama = 'Joni Gudel'\n",
        "print (nama[0])\n",
        "print (nama[1])\n",
        "print (nama[2])\n",
        "print (nama[3])\n",
        "print (nama[4])\n",
        "print (nama[5])\n",
        "print (nama[6])\n",
        "print (nama[7])\n",
        "print (nama[8])\n",
        "print (nama[9])"
      ],
      "metadata": {
        "colab": {
          "base_uri": "https://localhost:8080/"
        },
        "id": "0G7kyoIdzZ9P",
        "outputId": "8ca2ecc4-f281-4211-db7a-c7227fe2b6fc"
      },
      "execution_count": null,
      "outputs": [
        {
          "output_type": "stream",
          "name": "stdout",
          "text": [
            "J\n",
            "o\n",
            "n\n",
            "i\n",
            " \n",
            "G\n",
            "u\n",
            "d\n",
            "e\n",
            "l\n"
          ]
        }
      ]
    },
    {
      "cell_type": "code",
      "source": [
        "print('mimin item'[0])"
      ],
      "metadata": {
        "colab": {
          "base_uri": "https://localhost:8080/"
        },
        "id": "PohM4IBW1A1f",
        "outputId": "127ca3de-beec-4f6f-887c-c567a57795be"
      },
      "execution_count": null,
      "outputs": [
        {
          "output_type": "stream",
          "name": "stdout",
          "text": [
            "m\n"
          ]
        }
      ]
    },
    {
      "cell_type": "markdown",
      "source": [
        "mengenal slicing"
      ],
      "metadata": {
        "id": "TQxsZq2a0zMg"
      }
    },
    {
      "cell_type": "code",
      "source": [
        "nama = 'Joni Gudel'\n",
        "print (nama[0:4])"
      ],
      "metadata": {
        "colab": {
          "base_uri": "https://localhost:8080/"
        },
        "id": "3f1vRSTy2so8",
        "outputId": "2ae02568-f727-4c55-de3f-e1658b5a9254"
      },
      "execution_count": null,
      "outputs": [
        {
          "output_type": "stream",
          "name": "stdout",
          "text": [
            "Joni\n"
          ]
        }
      ]
    },
    {
      "cell_type": "code",
      "source": [
        "nama = 'Joni Gudel'\n",
        "print (nama[0:4:1])"
      ],
      "metadata": {
        "colab": {
          "base_uri": "https://localhost:8080/"
        },
        "id": "3cINOAkk0I49",
        "outputId": "7748db10-9737-4e5e-b73f-ec9ed408c784"
      },
      "execution_count": null,
      "outputs": [
        {
          "output_type": "stream",
          "name": "stdout",
          "text": [
            "Joni\n"
          ]
        }
      ]
    },
    {
      "cell_type": "markdown",
      "source": [
        "KOnsep Dictionary"
      ],
      "metadata": {
        "id": "n3ldskP43Pxo"
      }
    },
    {
      "cell_type": "code",
      "source": [
        "nilai_IPA = {'Joni' : 5,\n",
        "             'Jono' : 7,\n",
        "             'Jana' : 8,\n",
        "             'Jini' : 9,\n",
        "             'Junu' : 3,\n",
        "             'Dimas' : 6,\n",
        "             'Dimis' : 2,\n",
        "             'mimi' : 8}\n",
        "nama = input(\"masukan nama siswa : \")\n",
        "if nama in nilai_IPA:\n",
        "    print (\"nilai IPA\",nama, \"adalah\", nilai_IPA[nama])\n",
        "else:\n",
        "    print (\"Data Siswa Tidak Ditemukan\")\n",
        "    print (\"berikut nama-nama siswa:\")\n",
        "    for i in nilai_IPA.keys() :\n",
        "      print(i)"
      ],
      "metadata": {
        "colab": {
          "base_uri": "https://localhost:8080/"
        },
        "id": "RSH6Sl533S6W",
        "outputId": "2223150c-cbbe-4b6c-f64d-19900ca40b64"
      },
      "execution_count": null,
      "outputs": [
        {
          "output_type": "stream",
          "name": "stdout",
          "text": [
            "masukan nama siswa : Joni\n",
            "nilai IPA Joni adalah 5\n"
          ]
        }
      ]
    },
    {
      "cell_type": "markdown",
      "source": [
        "menambahkan isi nilai pada list"
      ],
      "metadata": {
        "id": "WDuP3val7k02"
      }
    },
    {
      "cell_type": "code",
      "source": [
        "sahabat = [\"Joni\", \"Beni\", \"Kuncung\"]\n",
        "sahabat.append([\"Edward\"])\n",
        "print(sahabat)"
      ],
      "metadata": {
        "colab": {
          "base_uri": "https://localhost:8080/"
        },
        "id": "MI2i7Ftg7pul",
        "outputId": "e9061b1a-f778-4d41-e78b-85d22029959d"
      },
      "execution_count": null,
      "outputs": [
        {
          "output_type": "stream",
          "name": "stdout",
          "text": [
            "['Joni', 'Beni', 'Kuncung', ['Edward']]\n"
          ]
        }
      ]
    },
    {
      "cell_type": "code",
      "source": [
        "sahabat.insert(0, \"Siti\")\n",
        "print(sahabat)"
      ],
      "metadata": {
        "colab": {
          "base_uri": "https://localhost:8080/"
        },
        "id": "J1ojrlW77z1L",
        "outputId": "c4be997d-d732-4f49-accb-6dadbe88ec09"
      },
      "execution_count": null,
      "outputs": [
        {
          "output_type": "stream",
          "name": "stdout",
          "text": [
            "['Siti', 'Joni', 'Beni', 'Kuncung', ['Edward']]\n"
          ]
        }
      ]
    },
    {
      "cell_type": "markdown",
      "source": [
        "tugas"
      ],
      "metadata": {
        "id": "Pq7jPD-b8PZL"
      }
    },
    {
      "cell_type": "code",
      "source": [
        "sahabat = ['Joni','Beni','Edi']\n",
        "print(sahabat[0])"
      ],
      "metadata": {
        "colab": {
          "base_uri": "https://localhost:8080/"
        },
        "id": "6_XB7haU8QEJ",
        "outputId": "029716c6-8758-48ad-c090-532403f182b5"
      },
      "execution_count": null,
      "outputs": [
        {
          "output_type": "stream",
          "name": "stdout",
          "text": [
            "Joni\n"
          ]
        }
      ]
    },
    {
      "cell_type": "markdown",
      "source": [
        "### Dasar Pandas"
      ],
      "metadata": {
        "id": "hBTVXZgm-PzS"
      }
    },
    {
      "cell_type": "markdown",
      "source": [
        "menambahkan pandas"
      ],
      "metadata": {
        "id": "9wNHV-xLjeVk"
      }
    },
    {
      "cell_type": "code",
      "execution_count": null,
      "metadata": {
        "id": "6AceN-Riil_S"
      },
      "outputs": [],
      "source": [
        "import pandas as pd"
      ]
    },
    {
      "cell_type": "code",
      "source": [
        "print(pd.__version__)"
      ],
      "metadata": {
        "colab": {
          "base_uri": "https://localhost:8080/"
        },
        "id": "oEqqr8WojF8f",
        "outputId": "dbaebfc1-98af-40cc-d384-1c1f210c99cf"
      },
      "execution_count": null,
      "outputs": [
        {
          "output_type": "stream",
          "name": "stdout",
          "text": [
            "1.5.3\n"
          ]
        }
      ]
    },
    {
      "cell_type": "markdown",
      "source": [
        "\n",
        "mengenal series\n"
      ],
      "metadata": {
        "id": "LAFU0IuxjjGB"
      }
    },
    {
      "cell_type": "code",
      "source": [
        "teman = ['jajang', 'jijing', 'jujung', 'jojong']"
      ],
      "metadata": {
        "id": "Zp9Hf3TskA2O"
      },
      "execution_count": null,
      "outputs": []
    },
    {
      "cell_type": "code",
      "source": [
        "type(teman)"
      ],
      "metadata": {
        "colab": {
          "base_uri": "https://localhost:8080/"
        },
        "id": "-ObWNNx7knkX",
        "outputId": "8c5bbf5d-c4ad-4802-f932-d7a8bb21253a"
      },
      "execution_count": null,
      "outputs": [
        {
          "output_type": "execute_result",
          "data": {
            "text/plain": [
              "list"
            ]
          },
          "metadata": {},
          "execution_count": 11
        }
      ]
    },
    {
      "cell_type": "code",
      "source": [
        "pd.Series(teman)"
      ],
      "metadata": {
        "colab": {
          "base_uri": "https://localhost:8080/"
        },
        "id": "zIDfc-P1jao5",
        "outputId": "bec3d3f9-1f0a-458e-bce5-6b60e119dee3"
      },
      "execution_count": null,
      "outputs": [
        {
          "output_type": "execute_result",
          "data": {
            "text/plain": [
              "0    jajang\n",
              "1    jijing\n",
              "2    jujung\n",
              "3    jojong\n",
              "dtype: object"
            ]
          },
          "metadata": {},
          "execution_count": 10
        }
      ]
    },
    {
      "cell_type": "code",
      "source": [
        "usia = [17, 21, 33, 44]"
      ],
      "metadata": {
        "id": "F-J08XijkeIu"
      },
      "execution_count": null,
      "outputs": []
    },
    {
      "cell_type": "code",
      "source": [
        "pd.Series(usia)"
      ],
      "metadata": {
        "colab": {
          "base_uri": "https://localhost:8080/"
        },
        "id": "nT6DvA6pk1SH",
        "outputId": "aeb73cbd-ddd9-414d-8208-f07cd490e59d"
      },
      "execution_count": null,
      "outputs": [
        {
          "output_type": "execute_result",
          "data": {
            "text/plain": [
              "0    17\n",
              "1    21\n",
              "2    33\n",
              "3    44\n",
              "dtype: int64"
            ]
          },
          "metadata": {},
          "execution_count": 14
        }
      ]
    },
    {
      "cell_type": "code",
      "source": [
        "tinggi_badan = [164.7, 170.4, 180.7, 183.8]"
      ],
      "metadata": {
        "id": "ww4NzQpWk2wv"
      },
      "execution_count": null,
      "outputs": []
    },
    {
      "cell_type": "code",
      "source": [
        "pd.Series(tinggi_badan)"
      ],
      "metadata": {
        "colab": {
          "base_uri": "https://localhost:8080/"
        },
        "id": "bVNwBLhnlIJs",
        "outputId": "8b4bdad9-5549-4cbe-eebc-905de7f8afe0"
      },
      "execution_count": null,
      "outputs": [
        {
          "output_type": "execute_result",
          "data": {
            "text/plain": [
              "0    164.7\n",
              "1    170.4\n",
              "2    180.7\n",
              "3    183.8\n",
              "dtype: float64"
            ]
          },
          "metadata": {},
          "execution_count": 17
        }
      ]
    },
    {
      "cell_type": "code",
      "source": [
        "data_acak = [1,'yogyakarta', 18.5, {'kondisi':100}]"
      ],
      "metadata": {
        "id": "gKtrqYOrlOsO"
      },
      "execution_count": null,
      "outputs": []
    },
    {
      "cell_type": "code",
      "source": [
        "pd.Series(data_acak)"
      ],
      "metadata": {
        "colab": {
          "base_uri": "https://localhost:8080/"
        },
        "id": "F95w93D5lfyg",
        "outputId": "dfac6ca6-1462-4cd5-de4e-9cdb35937d71"
      },
      "execution_count": null,
      "outputs": [
        {
          "output_type": "execute_result",
          "data": {
            "text/plain": [
              "0                   1\n",
              "1          yogyakarta\n",
              "2                18.5\n",
              "3    {'kondisi': 100}\n",
              "dtype: object"
            ]
          },
          "metadata": {},
          "execution_count": 21
        }
      ]
    },
    {
      "cell_type": "markdown",
      "source": [
        "tugas 1"
      ],
      "metadata": {
        "id": "AoZdtmlgmJkv"
      }
    },
    {
      "cell_type": "code",
      "source": [
        "import pandas as pd\n",
        "sahabat = ['Joni', 'Edi', 'Siti']\n",
        "pd.Series(sahabat)"
      ],
      "metadata": {
        "colab": {
          "base_uri": "https://localhost:8080/"
        },
        "id": "eZTTWl59lpkj",
        "outputId": "dbeff2a8-3ed0-4736-e577-34d7f035f1c6"
      },
      "execution_count": null,
      "outputs": [
        {
          "output_type": "execute_result",
          "data": {
            "text/plain": [
              "0    Joni\n",
              "1     Edi\n",
              "2    Siti\n",
              "dtype: object"
            ]
          },
          "metadata": {},
          "execution_count": 22
        }
      ]
    },
    {
      "cell_type": "code",
      "source": [
        "import pandas as pd\n",
        "sahabat = ['Joni', 'Edi', 'Siti']\n",
        "sahabat = sahabat + ['Fredi', 'Ucok']\n",
        "pd.Series(sahabat)"
      ],
      "metadata": {
        "colab": {
          "base_uri": "https://localhost:8080/"
        },
        "id": "pdtCttremMzJ",
        "outputId": "7cf8e612-7ea4-43fd-d53a-42120a08b1bf"
      },
      "execution_count": null,
      "outputs": [
        {
          "output_type": "execute_result",
          "data": {
            "text/plain": [
              "0     Joni\n",
              "1      Edi\n",
              "2     Siti\n",
              "3    Fredi\n",
              "4     Ucok\n",
              "dtype: object"
            ]
          },
          "metadata": {},
          "execution_count": 23
        }
      ]
    },
    {
      "cell_type": "markdown",
      "source": [
        "Mengenal Karakteristik data"
      ],
      "metadata": {
        "id": "6p0MRHP0mSWE"
      }
    },
    {
      "cell_type": "code",
      "source": [
        "teman = ['jajang', 'jijing', 'jujung', 'jojong']"
      ],
      "metadata": {
        "id": "F3J0oQnUmP_X"
      },
      "execution_count": null,
      "outputs": []
    },
    {
      "cell_type": "code",
      "source": [
        "teman_akrab = {0:'jajang', 1:'jijing', 2:'jujung', 3:'jojong'}"
      ],
      "metadata": {
        "id": "J0L9XDcUnkGD"
      },
      "execution_count": null,
      "outputs": []
    },
    {
      "cell_type": "code",
      "source": [
        "a=pd.Series(teman)\n",
        "b=pd.Series(teman_akrab)"
      ],
      "metadata": {
        "id": "yM-0MVekn3Fa"
      },
      "execution_count": null,
      "outputs": []
    },
    {
      "cell_type": "code",
      "source": [
        "a.equals(b)"
      ],
      "metadata": {
        "colab": {
          "base_uri": "https://localhost:8080/"
        },
        "id": "bCrH6XTrn_09",
        "outputId": "3dd3e11b-5f58-43fa-fb33-789bc9ffda56"
      },
      "execution_count": null,
      "outputs": [
        {
          "output_type": "execute_result",
          "data": {
            "text/plain": [
              "True"
            ]
          },
          "metadata": {},
          "execution_count": 29
        }
      ]
    },
    {
      "cell_type": "markdown",
      "source": [
        "index dan rangeindex"
      ],
      "metadata": {
        "id": "kihqxlGloZqY"
      }
    },
    {
      "cell_type": "code",
      "source": [
        "teman = ['jajang', 'jijing', 'jujung', 'jojong']"
      ],
      "metadata": {
        "id": "v3mxweaSoLoN"
      },
      "execution_count": null,
      "outputs": []
    },
    {
      "cell_type": "code",
      "source": [
        "pd.Series(data=teman, index=['teman1', 'teman2', 'teman3', 'teman4'])"
      ],
      "metadata": {
        "colab": {
          "base_uri": "https://localhost:8080/"
        },
        "id": "3FwBhwjzo_av",
        "outputId": "f980912a-2b8e-459e-dd81-cb8e7f9c2236"
      },
      "execution_count": null,
      "outputs": [
        {
          "output_type": "execute_result",
          "data": {
            "text/plain": [
              "teman1    jajang\n",
              "teman2    jijing\n",
              "teman3    jujung\n",
              "teman4    jojong\n",
              "dtype: object"
            ]
          },
          "metadata": {},
          "execution_count": 32
        }
      ]
    },
    {
      "cell_type": "code",
      "source": [
        "pd.Series(teman).index"
      ],
      "metadata": {
        "colab": {
          "base_uri": "https://localhost:8080/"
        },
        "id": "bC2rolQgpQIl",
        "outputId": "dd36e0fb-0b1c-4ce6-ebe3-153f2a57d3d3"
      },
      "execution_count": null,
      "outputs": [
        {
          "output_type": "execute_result",
          "data": {
            "text/plain": [
              "RangeIndex(start=0, stop=4, step=1)"
            ]
          },
          "metadata": {},
          "execution_count": 34
        }
      ]
    },
    {
      "cell_type": "code",
      "source": [
        "pd.RangeIndex(start=5, stop=8, step=1)"
      ],
      "metadata": {
        "colab": {
          "base_uri": "https://localhost:8080/"
        },
        "id": "DXMj7UQTph3g",
        "outputId": "84989070-0802-48a1-a980-249fc1eb6f7d"
      },
      "execution_count": null,
      "outputs": [
        {
          "output_type": "execute_result",
          "data": {
            "text/plain": [
              "RangeIndex(start=5, stop=8, step=1)"
            ]
          },
          "metadata": {},
          "execution_count": 36
        }
      ]
    },
    {
      "cell_type": "code",
      "source": [
        "list(pd.RangeIndex(start=5, stop=8, step=1))"
      ],
      "metadata": {
        "colab": {
          "base_uri": "https://localhost:8080/"
        },
        "id": "tBmV69DrqNOe",
        "outputId": "fa39f317-2081-49ec-a928-7545cb2257b7"
      },
      "execution_count": null,
      "outputs": [
        {
          "output_type": "execute_result",
          "data": {
            "text/plain": [
              "[5, 6, 7]"
            ]
          },
          "metadata": {},
          "execution_count": 38
        }
      ]
    },
    {
      "cell_type": "markdown",
      "source": [
        "memberi nama pada series"
      ],
      "metadata": {
        "id": "LhD1Vw20rINx"
      }
    },
    {
      "cell_type": "code",
      "source": [
        "namateman = pd.Series(teman)\n",
        "namateman.name = 'Daftar Teman Akrab'\n",
        "namateman"
      ],
      "metadata": {
        "colab": {
          "base_uri": "https://localhost:8080/"
        },
        "id": "Ryj6YdgvqpcD",
        "outputId": "9446b16a-f50c-46a6-e557-19cc79d36846"
      },
      "execution_count": null,
      "outputs": [
        {
          "output_type": "execute_result",
          "data": {
            "text/plain": [
              "0    jajang\n",
              "1    jijing\n",
              "2    jujung\n",
              "3    jojong\n",
              "Name: Daftar Teman Akrab, dtype: object"
            ]
          },
          "metadata": {},
          "execution_count": 42
        }
      ]
    },
    {
      "cell_type": "code",
      "source": [
        "namateman.index.name= 'nomor urut teman'\n",
        "namateman"
      ],
      "metadata": {
        "colab": {
          "base_uri": "https://localhost:8080/"
        },
        "id": "QrVV_z4nrPYd",
        "outputId": "23578b98-a547-44f1-cb6e-68d74c2a5e54"
      },
      "execution_count": null,
      "outputs": [
        {
          "output_type": "execute_result",
          "data": {
            "text/plain": [
              "nomor urut teman\n",
              "0    jajang\n",
              "1    jijing\n",
              "2    jujung\n",
              "3    jojong\n",
              "Name: Daftar Teman Akrab, dtype: object"
            ]
          },
          "metadata": {},
          "execution_count": 43
        }
      ]
    },
    {
      "cell_type": "markdown",
      "source": [
        "menggunakan head() dan tail() method"
      ],
      "metadata": {
        "id": "H8cOZ2GMr4Mp"
      }
    },
    {
      "cell_type": "code",
      "source": [
        "angka = pd.Series(range(100))"
      ],
      "metadata": {
        "id": "nfjZ4CA1rrYG"
      },
      "execution_count": null,
      "outputs": []
    },
    {
      "cell_type": "code",
      "source": [
        "angka.head(10)\n"
      ],
      "metadata": {
        "colab": {
          "base_uri": "https://localhost:8080/"
        },
        "id": "KbMmVr3VsRlZ",
        "outputId": "da40e46e-a847-4921-fb95-e1b8dce02852"
      },
      "execution_count": null,
      "outputs": [
        {
          "output_type": "execute_result",
          "data": {
            "text/plain": [
              "0    0\n",
              "1    1\n",
              "2    2\n",
              "3    3\n",
              "4    4\n",
              "5    5\n",
              "6    6\n",
              "7    7\n",
              "8    8\n",
              "9    9\n",
              "dtype: int64"
            ]
          },
          "metadata": {},
          "execution_count": 51
        }
      ]
    },
    {
      "cell_type": "code",
      "source": [
        "angka.tail(11)"
      ],
      "metadata": {
        "colab": {
          "base_uri": "https://localhost:8080/"
        },
        "id": "YnRn5DLOsibw",
        "outputId": "c5ca840e-7183-4812-f9c4-c5599acc912f"
      },
      "execution_count": null,
      "outputs": [
        {
          "output_type": "execute_result",
          "data": {
            "text/plain": [
              "89    89\n",
              "90    90\n",
              "91    91\n",
              "92    92\n",
              "93    93\n",
              "94    94\n",
              "95    95\n",
              "96    96\n",
              "97    97\n",
              "98    98\n",
              "99    99\n",
              "dtype: int64"
            ]
          },
          "metadata": {},
          "execution_count": 53
        }
      ]
    },
    {
      "cell_type": "code",
      "source": [],
      "metadata": {
        "id": "LdEvo0eLszoH"
      },
      "execution_count": null,
      "outputs": []
    }
  ]
}