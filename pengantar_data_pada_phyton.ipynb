{
  "nbformat": 4,
  "nbformat_minor": 0,
  "metadata": {
    "colab": {
      "provenance": [],
      "authorship_tag": "ABX9TyOd6HSKUaljrnFx8HFFr/zr",
      "include_colab_link": true
    },
    "kernelspec": {
      "name": "python3",
      "display_name": "Python 3"
    },
    "language_info": {
      "name": "python"
    }
  },
  "cells": [
    {
      "cell_type": "markdown",
      "metadata": {
        "id": "view-in-github",
        "colab_type": "text"
      },
      "source": [
        "<a href=\"https://colab.research.google.com/github/KevinCandra9999/colab-3/blob/main/pengantar_data_pada_phyton.ipynb\" target=\"_parent\"><img src=\"https://colab.research.google.com/assets/colab-badge.svg\" alt=\"Open In Colab\"/></a>"
      ]
    },
    {
      "cell_type": "markdown",
      "source": [
        "Memahami list"
      ],
      "metadata": {
        "id": "gDj9lyq_0pcy"
      }
    },
    {
      "cell_type": "code",
      "execution_count": 1,
      "metadata": {
        "id": "0LcIOrdPqTPZ",
        "colab": {
          "base_uri": "https://localhost:8080/"
        },
        "outputId": "4f1facbe-c6db-49b6-97a6-678088a9dbc9"
      },
      "outputs": [
        {
          "output_type": "stream",
          "name": "stdout",
          "text": [
            "[['Joni Gudel', 27], ['Mimin Item', 10]]\n"
          ]
        }
      ],
      "source": [
        "joni = ['Joni Gudel', 27]\n",
        "mimin = ['Mimin Item', 10]\n",
        "database = [joni, mimin]\n",
        "print (database)"
      ]
    },
    {
      "cell_type": "markdown",
      "source": [
        "mengenal indexing"
      ],
      "metadata": {
        "id": "AGgNWgk90uUc"
      }
    },
    {
      "cell_type": "code",
      "source": [
        "nama = 'Joni Gudel'\n",
        "print (nama[0])\n",
        "print (nama[1])\n",
        "print (nama[2])\n",
        "print (nama[3])\n",
        "print (nama[4])\n",
        "print (nama[5])\n",
        "print (nama[6])\n",
        "print (nama[7])\n",
        "print (nama[8])\n",
        "print (nama[9])"
      ],
      "metadata": {
        "colab": {
          "base_uri": "https://localhost:8080/"
        },
        "id": "0G7kyoIdzZ9P",
        "outputId": "8ca2ecc4-f281-4211-db7a-c7227fe2b6fc"
      },
      "execution_count": 9,
      "outputs": [
        {
          "output_type": "stream",
          "name": "stdout",
          "text": [
            "J\n",
            "o\n",
            "n\n",
            "i\n",
            " \n",
            "G\n",
            "u\n",
            "d\n",
            "e\n",
            "l\n"
          ]
        }
      ]
    },
    {
      "cell_type": "code",
      "source": [
        "print('mimin item'[0])"
      ],
      "metadata": {
        "colab": {
          "base_uri": "https://localhost:8080/"
        },
        "id": "PohM4IBW1A1f",
        "outputId": "127ca3de-beec-4f6f-887c-c567a57795be"
      },
      "execution_count": 10,
      "outputs": [
        {
          "output_type": "stream",
          "name": "stdout",
          "text": [
            "m\n"
          ]
        }
      ]
    },
    {
      "cell_type": "markdown",
      "source": [
        "mengenal slicing"
      ],
      "metadata": {
        "id": "TQxsZq2a0zMg"
      }
    },
    {
      "cell_type": "code",
      "source": [
        "nama = 'Joni Gudel'\n",
        "print (nama[0:4])"
      ],
      "metadata": {
        "colab": {
          "base_uri": "https://localhost:8080/"
        },
        "id": "3f1vRSTy2so8",
        "outputId": "2ae02568-f727-4c55-de3f-e1658b5a9254"
      },
      "execution_count": 11,
      "outputs": [
        {
          "output_type": "stream",
          "name": "stdout",
          "text": [
            "Joni\n"
          ]
        }
      ]
    },
    {
      "cell_type": "code",
      "source": [
        "nama = 'Joni Gudel'\n",
        "print (nama[0:4:1])"
      ],
      "metadata": {
        "colab": {
          "base_uri": "https://localhost:8080/"
        },
        "id": "3cINOAkk0I49",
        "outputId": "7748db10-9737-4e5e-b73f-ec9ed408c784"
      },
      "execution_count": 15,
      "outputs": [
        {
          "output_type": "stream",
          "name": "stdout",
          "text": [
            "Joni\n"
          ]
        }
      ]
    },
    {
      "cell_type": "markdown",
      "source": [
        "KOnsep Dictionary"
      ],
      "metadata": {
        "id": "n3ldskP43Pxo"
      }
    },
    {
      "cell_type": "code",
      "source": [
        "nilai_IPA = {'Joni' : 5,\n",
        "             'Jono' : 7,\n",
        "             'Jana' : 8,\n",
        "             'Jini' : 9,\n",
        "             'Junu' : 3,\n",
        "             'Dimas' : 6,\n",
        "             'Dimis' : 2,\n",
        "             'mimi' : 8}\n",
        "nama = input(\"masukan nama siswa : \")\n",
        "if nama in nilai_IPA:\n",
        "    print (\"nilai IPA\",nama, \"adalah\", nilai_IPA[nama])\n",
        "else:\n",
        "    print (\"Data Siswa Tidak Ditemukan\")\n",
        "    print (\"berikut nama-nama siswa:\")\n",
        "    for i in nilai_IPA.keys() :\n",
        "      print(i)"
      ],
      "metadata": {
        "colab": {
          "base_uri": "https://localhost:8080/"
        },
        "id": "RSH6Sl533S6W",
        "outputId": "2223150c-cbbe-4b6c-f64d-19900ca40b64"
      },
      "execution_count": 27,
      "outputs": [
        {
          "output_type": "stream",
          "name": "stdout",
          "text": [
            "masukan nama siswa : Joni\n",
            "nilai IPA Joni adalah 5\n"
          ]
        }
      ]
    },
    {
      "cell_type": "markdown",
      "source": [
        "menambahkan isi nilai pada list"
      ],
      "metadata": {
        "id": "WDuP3val7k02"
      }
    },
    {
      "cell_type": "code",
      "source": [
        "sahabat = [\"Joni\", \"Beni\", \"Kuncung\"]\n",
        "sahabat.append([\"Edward\"])\n",
        "print(sahabat)"
      ],
      "metadata": {
        "colab": {
          "base_uri": "https://localhost:8080/"
        },
        "id": "MI2i7Ftg7pul",
        "outputId": "e9061b1a-f778-4d41-e78b-85d22029959d"
      },
      "execution_count": 33,
      "outputs": [
        {
          "output_type": "stream",
          "name": "stdout",
          "text": [
            "['Joni', 'Beni', 'Kuncung', ['Edward']]\n"
          ]
        }
      ]
    },
    {
      "cell_type": "code",
      "source": [
        "sahabat.insert(0, \"Siti\")\n",
        "print(sahabat)"
      ],
      "metadata": {
        "colab": {
          "base_uri": "https://localhost:8080/"
        },
        "id": "J1ojrlW77z1L",
        "outputId": "c4be997d-d732-4f49-accb-6dadbe88ec09"
      },
      "execution_count": 35,
      "outputs": [
        {
          "output_type": "stream",
          "name": "stdout",
          "text": [
            "['Siti', 'Joni', 'Beni', 'Kuncung', ['Edward']]\n"
          ]
        }
      ]
    },
    {
      "cell_type": "markdown",
      "source": [
        "tugas"
      ],
      "metadata": {
        "id": "Pq7jPD-b8PZL"
      }
    },
    {
      "cell_type": "code",
      "source": [
        "sahabat = ['Joni','Beni','Edi']\n",
        "print(sahabat[0])"
      ],
      "metadata": {
        "colab": {
          "base_uri": "https://localhost:8080/"
        },
        "id": "6_XB7haU8QEJ",
        "outputId": "029716c6-8758-48ad-c090-532403f182b5"
      },
      "execution_count": 36,
      "outputs": [
        {
          "output_type": "stream",
          "name": "stdout",
          "text": [
            "Joni\n"
          ]
        }
      ]
    },
    {
      "cell_type": "code",
      "source": [],
      "metadata": {
        "id": "DIJW88mO8Qi9"
      },
      "execution_count": null,
      "outputs": []
    }
  ]
}