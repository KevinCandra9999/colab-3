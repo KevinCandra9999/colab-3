{
  "nbformat": 4,
  "nbformat_minor": 0,
  "metadata": {
    "colab": {
      "provenance": [],
      "authorship_tag": "ABX9TyMQgJObP10sWfdvAkN7ZUUs",
      "include_colab_link": true
    },
    "kernelspec": {
      "name": "python3",
      "display_name": "Python 3"
    },
    "language_info": {
      "name": "python"
    }
  },
  "cells": [
    {
      "cell_type": "markdown",
      "metadata": {
        "id": "view-in-github",
        "colab_type": "text"
      },
      "source": [
        "<a href=\"https://colab.research.google.com/github/KevinCandra9999/colab-3/blob/main/menampilkan_data_series.ipynb\" target=\"_parent\"><img src=\"https://colab.research.google.com/assets/colab-badge.svg\" alt=\"Open In Colab\"/></a>"
      ]
    },
    {
      "cell_type": "code",
      "execution_count": null,
      "metadata": {
        "id": "tnsQTbJ03Ir8"
      },
      "outputs": [],
      "source": [
        "import pandas as pd"
      ]
    },
    {
      "cell_type": "markdown",
      "source": [
        "mengekstraksi atau mengakses nilai pada series"
      ],
      "metadata": {
        "id": "nsqSCDuW3wAP"
      }
    },
    {
      "cell_type": "code",
      "source": [
        "teman = ['jajang', 'jijing', 'jujung', 'jojong']"
      ],
      "metadata": {
        "id": "Cm5p4KYC3ZeT"
      },
      "execution_count": null,
      "outputs": []
    },
    {
      "cell_type": "code",
      "source": [
        "print(teman[0:3])"
      ],
      "metadata": {
        "colab": {
          "base_uri": "https://localhost:8080/"
        },
        "id": "pdKxR1Sw4D1m",
        "outputId": "9209ab39-59ea-4a96-db39-7452dd385528"
      },
      "execution_count": null,
      "outputs": [
        {
          "output_type": "stream",
          "name": "stdout",
          "text": [
            "['jajang', 'jijing', 'jujung']\n"
          ]
        }
      ]
    },
    {
      "cell_type": "code",
      "source": [
        "teman_akrab = {0:'jajang', 1:'jijing', 2:'jujung', 3:'jojong'}"
      ],
      "metadata": {
        "id": "yk7GhUxv3deH"
      },
      "execution_count": null,
      "outputs": []
    },
    {
      "cell_type": "code",
      "source": [
        "print(teman_akrab[0])"
      ],
      "metadata": {
        "colab": {
          "base_uri": "https://localhost:8080/"
        },
        "id": "ndnp1o8v4OxJ",
        "outputId": "e2be0e7f-e71e-438c-ca11-5451e2c97282"
      },
      "execution_count": null,
      "outputs": [
        {
          "output_type": "stream",
          "name": "stdout",
          "text": [
            "jajang\n"
          ]
        }
      ]
    },
    {
      "cell_type": "markdown",
      "source": [
        "menggunakan .loc"
      ],
      "metadata": {
        "id": "wny2hmIh4o9R"
      }
    },
    {
      "cell_type": "code",
      "source": [
        "c = pd.Series(data=teman, index=['teman1', 'teman2', 'teman3', 'teman4'])"
      ],
      "metadata": {
        "id": "a2_l_bs84Sub"
      },
      "execution_count": null,
      "outputs": []
    },
    {
      "cell_type": "code",
      "source": [
        "print(c['teman1':'teman3'])"
      ],
      "metadata": {
        "colab": {
          "base_uri": "https://localhost:8080/"
        },
        "id": "F4UgUcUD5NNn",
        "outputId": "de0fedee-67af-4c9c-f4f7-a14f4bc3f413"
      },
      "execution_count": null,
      "outputs": [
        {
          "output_type": "stream",
          "name": "stdout",
          "text": [
            "teman1    jajang\n",
            "teman2    jijing\n",
            "teman3    jujung\n",
            "dtype: object\n"
          ]
        }
      ]
    },
    {
      "cell_type": "code",
      "source": [
        "c.loc['teman1':'teman3']"
      ],
      "metadata": {
        "colab": {
          "base_uri": "https://localhost:8080/"
        },
        "id": "yecLQ-tV5QF8",
        "outputId": "fec4e77b-01dc-45f2-943e-3342fe3fb0b0"
      },
      "execution_count": null,
      "outputs": [
        {
          "output_type": "execute_result",
          "data": {
            "text/plain": [
              "teman1    jajang\n",
              "teman2    jijing\n",
              "teman3    jujung\n",
              "dtype: object"
            ]
          },
          "metadata": {},
          "execution_count": 16
        }
      ]
    },
    {
      "cell_type": "markdown",
      "source": [
        "Menggunakan dot Notation"
      ],
      "metadata": {
        "id": "UI8HlvkQ5z8O"
      }
    },
    {
      "cell_type": "code",
      "source": [
        "c.teman1"
      ],
      "metadata": {
        "colab": {
          "base_uri": "https://localhost:8080/",
          "height": 35
        },
        "id": "_Fs3z_ze5k6d",
        "outputId": "d15c1352-e8fa-4b8c-ed4b-881ebfeb4cb9"
      },
      "execution_count": null,
      "outputs": [
        {
          "output_type": "execute_result",
          "data": {
            "text/plain": [
              "'jajang'"
            ],
            "application/vnd.google.colaboratory.intrinsic+json": {
              "type": "string"
            }
          },
          "metadata": {},
          "execution_count": 17
        }
      ]
    },
    {
      "cell_type": "markdown",
      "source": [
        "boolean mask"
      ],
      "metadata": {
        "id": "yi_iiqis56OU"
      }
    },
    {
      "cell_type": "code",
      "source": [
        "c.loc[[True,True,True,True]]"
      ],
      "metadata": {
        "colab": {
          "base_uri": "https://localhost:8080/"
        },
        "id": "LITqQ_6o55Kt",
        "outputId": "7b238554-c031-4375-9965-56b8d231abda"
      },
      "execution_count": null,
      "outputs": [
        {
          "output_type": "execute_result",
          "data": {
            "text/plain": [
              "teman1    jajang\n",
              "teman2    jijing\n",
              "teman3    jujung\n",
              "teman4    jojong\n",
              "dtype: object"
            ]
          },
          "metadata": {},
          "execution_count": 18
        }
      ]
    },
    {
      "cell_type": "code",
      "source": [
        "c.loc[[True,False,True,True]]"
      ],
      "metadata": {
        "colab": {
          "base_uri": "https://localhost:8080/"
        },
        "id": "kQLuq6tZ6WKF",
        "outputId": "66742382-9ec4-48db-dec6-4feac0573c11"
      },
      "execution_count": null,
      "outputs": [
        {
          "output_type": "execute_result",
          "data": {
            "text/plain": [
              "teman1    jajang\n",
              "teman3    jujung\n",
              "teman4    jojong\n",
              "dtype: object"
            ]
          },
          "metadata": {},
          "execution_count": 19
        }
      ]
    },
    {
      "cell_type": "code",
      "source": [
        "angka = pd.Series(range(30))"
      ],
      "metadata": {
        "id": "LC7v9JmR6ZYH"
      },
      "execution_count": null,
      "outputs": []
    },
    {
      "cell_type": "code",
      "source": [
        "pd.Series(angka)"
      ],
      "metadata": {
        "colab": {
          "base_uri": "https://localhost:8080/"
        },
        "id": "K-ELE0mM6xn9",
        "outputId": "d844b506-3900-45b7-d1bb-d506a936038d"
      },
      "execution_count": null,
      "outputs": [
        {
          "output_type": "execute_result",
          "data": {
            "text/plain": [
              "0      0\n",
              "1      1\n",
              "2      2\n",
              "3      3\n",
              "4      4\n",
              "5      5\n",
              "6      6\n",
              "7      7\n",
              "8      8\n",
              "9      9\n",
              "10    10\n",
              "11    11\n",
              "12    12\n",
              "13    13\n",
              "14    14\n",
              "15    15\n",
              "16    16\n",
              "17    17\n",
              "18    18\n",
              "19    19\n",
              "20    20\n",
              "21    21\n",
              "22    22\n",
              "23    23\n",
              "24    24\n",
              "25    25\n",
              "26    26\n",
              "27    27\n",
              "28    28\n",
              "29    29\n",
              "dtype: int64"
            ]
          },
          "metadata": {},
          "execution_count": 22
        }
      ]
    },
    {
      "cell_type": "code",
      "source": [
        "angka.loc[[True for i in range(30)]]"
      ],
      "metadata": {
        "colab": {
          "base_uri": "https://localhost:8080/"
        },
        "id": "EnUOJ_zp63R_",
        "outputId": "c9e4668b-2370-48e5-c42c-5d8f792abcb6"
      },
      "execution_count": null,
      "outputs": [
        {
          "output_type": "execute_result",
          "data": {
            "text/plain": [
              "0      0\n",
              "1      1\n",
              "2      2\n",
              "3      3\n",
              "4      4\n",
              "5      5\n",
              "6      6\n",
              "7      7\n",
              "8      8\n",
              "9      9\n",
              "10    10\n",
              "11    11\n",
              "12    12\n",
              "13    13\n",
              "14    14\n",
              "15    15\n",
              "16    16\n",
              "17    17\n",
              "18    18\n",
              "19    19\n",
              "20    20\n",
              "21    21\n",
              "22    22\n",
              "23    23\n",
              "24    24\n",
              "25    25\n",
              "26    26\n",
              "27    27\n",
              "28    28\n",
              "29    29\n",
              "dtype: int64"
            ]
          },
          "metadata": {},
          "execution_count": 23
        }
      ]
    },
    {
      "cell_type": "code",
      "source": [
        "angka.loc[[True if i%2 == 0 else False for i in range(30)]]"
      ],
      "metadata": {
        "colab": {
          "base_uri": "https://localhost:8080/"
        },
        "id": "NId0GcGs7GvL",
        "outputId": "57128200-6e57-4a94-df2f-3f3b110028b9"
      },
      "execution_count": null,
      "outputs": [
        {
          "output_type": "execute_result",
          "data": {
            "text/plain": [
              "0      0\n",
              "2      2\n",
              "4      4\n",
              "6      6\n",
              "8      8\n",
              "10    10\n",
              "12    12\n",
              "14    14\n",
              "16    16\n",
              "18    18\n",
              "20    20\n",
              "22    22\n",
              "24    24\n",
              "26    26\n",
              "28    28\n",
              "dtype: int64"
            ]
          },
          "metadata": {},
          "execution_count": 26
        }
      ]
    },
    {
      "cell_type": "markdown",
      "source": [
        "menggunakan metode get"
      ],
      "metadata": {
        "id": "iukbslTg8lSr"
      }
    },
    {
      "cell_type": "code",
      "source": [
        "c.get('teman1')"
      ],
      "metadata": {
        "colab": {
          "base_uri": "https://localhost:8080/",
          "height": 35
        },
        "id": "8frlC9vf8npG",
        "outputId": "e155dc94-2e91-4c81-b897-ede8e3d82c11"
      },
      "execution_count": null,
      "outputs": [
        {
          "output_type": "execute_result",
          "data": {
            "text/plain": [
              "'jajang'"
            ],
            "application/vnd.google.colaboratory.intrinsic+json": {
              "type": "string"
            }
          },
          "metadata": {},
          "execution_count": 28
        }
      ]
    },
    {
      "cell_type": "code",
      "source": [
        "c.get('teman5',default='nama teman tidak ada')"
      ],
      "metadata": {
        "colab": {
          "base_uri": "https://localhost:8080/",
          "height": 35
        },
        "id": "pJF6Y2gr8w8Y",
        "outputId": "930959eb-2e23-4a50-87fb-59f368f62aae"
      },
      "execution_count": null,
      "outputs": [
        {
          "output_type": "execute_result",
          "data": {
            "text/plain": [
              "'nama teman tidak ada'"
            ],
            "application/vnd.google.colaboratory.intrinsic+json": {
              "type": "string"
            }
          },
          "metadata": {},
          "execution_count": 31
        }
      ]
    },
    {
      "cell_type": "code",
      "source": [],
      "metadata": {
        "id": "8VdzMUac88vC"
      },
      "execution_count": null,
      "outputs": []
    }
  ]
}