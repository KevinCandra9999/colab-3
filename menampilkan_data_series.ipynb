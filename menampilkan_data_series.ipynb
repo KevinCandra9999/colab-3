{
  "nbformat": 4,
  "nbformat_minor": 0,
  "metadata": {
    "colab": {
      "provenance": [],
      "authorship_tag": "ABX9TyOTX1+p69+ymQFqDKGNVXqk",
      "include_colab_link": true
    },
    "kernelspec": {
      "name": "python3",
      "display_name": "Python 3"
    },
    "language_info": {
      "name": "python"
    }
  },
  "cells": [
    {
      "cell_type": "markdown",
      "metadata": {
        "id": "view-in-github",
        "colab_type": "text"
      },
      "source": [
        "<a href=\"https://colab.research.google.com/github/KevinCandra9999/colab-3/blob/main/menampilkan_data_series.ipynb\" target=\"_parent\"><img src=\"https://colab.research.google.com/assets/colab-badge.svg\" alt=\"Open In Colab\"/></a>"
      ]
    },
    {
      "cell_type": "code",
      "execution_count": 18,
      "metadata": {
        "id": "tnsQTbJ03Ir8"
      },
      "outputs": [],
      "source": [
        " import pandas as pd"
      ]
    },
    {
      "cell_type": "markdown",
      "source": [
        "### mengekstraksi atau mengakses nilai pada series"
      ],
      "metadata": {
        "id": "nsqSCDuW3wAP"
      }
    },
    {
      "cell_type": "code",
      "source": [
        "teman = ['jajang', 'jijing', 'jujung', 'jojong']"
      ],
      "metadata": {
        "id": "Cm5p4KYC3ZeT"
      },
      "execution_count": 19,
      "outputs": []
    },
    {
      "cell_type": "code",
      "source": [
        "print(teman[0:3])"
      ],
      "metadata": {
        "colab": {
          "base_uri": "https://localhost:8080/"
        },
        "id": "pdKxR1Sw4D1m",
        "outputId": "e9a9c237-cd7c-48c8-defc-ade55271ddfc"
      },
      "execution_count": 20,
      "outputs": [
        {
          "output_type": "stream",
          "name": "stdout",
          "text": [
            "['jajang', 'jijing', 'jujung']\n"
          ]
        }
      ]
    },
    {
      "cell_type": "code",
      "source": [
        "teman_akrab = {0:'jajang', 1:'jijing', 2:'jujung', 3:'jojong'}"
      ],
      "metadata": {
        "id": "yk7GhUxv3deH"
      },
      "execution_count": 21,
      "outputs": []
    },
    {
      "cell_type": "code",
      "source": [
        "print(teman_akrab[0])"
      ],
      "metadata": {
        "colab": {
          "base_uri": "https://localhost:8080/"
        },
        "id": "ndnp1o8v4OxJ",
        "outputId": "9cc0d86e-b46a-454d-dccf-1069a82fe224"
      },
      "execution_count": 22,
      "outputs": [
        {
          "output_type": "stream",
          "name": "stdout",
          "text": [
            "jajang\n"
          ]
        }
      ]
    },
    {
      "cell_type": "markdown",
      "source": [
        "### menggunakan .loc"
      ],
      "metadata": {
        "id": "wny2hmIh4o9R"
      }
    },
    {
      "cell_type": "code",
      "source": [
        "c = pd.Series(data=teman, index=['teman1', 'teman2', 'teman3', 'teman4'])"
      ],
      "metadata": {
        "id": "a2_l_bs84Sub"
      },
      "execution_count": 23,
      "outputs": []
    },
    {
      "cell_type": "code",
      "source": [
        "print(c['teman1':'teman3'])"
      ],
      "metadata": {
        "colab": {
          "base_uri": "https://localhost:8080/"
        },
        "id": "F4UgUcUD5NNn",
        "outputId": "28e3dff5-e359-4dbd-afba-911283ea9d2b"
      },
      "execution_count": 24,
      "outputs": [
        {
          "output_type": "stream",
          "name": "stdout",
          "text": [
            "teman1    jajang\n",
            "teman2    jijing\n",
            "teman3    jujung\n",
            "dtype: object\n"
          ]
        }
      ]
    },
    {
      "cell_type": "code",
      "source": [
        "c.loc['teman1':'teman3']"
      ],
      "metadata": {
        "colab": {
          "base_uri": "https://localhost:8080/"
        },
        "id": "yecLQ-tV5QF8",
        "outputId": "96ee2309-f5dd-4fed-d95f-4ef37bb91225"
      },
      "execution_count": 25,
      "outputs": [
        {
          "output_type": "execute_result",
          "data": {
            "text/plain": [
              "teman1    jajang\n",
              "teman2    jijing\n",
              "teman3    jujung\n",
              "dtype: object"
            ]
          },
          "metadata": {},
          "execution_count": 25
        }
      ]
    },
    {
      "cell_type": "markdown",
      "source": [
        "### Menggunakan dot Notation"
      ],
      "metadata": {
        "id": "UI8HlvkQ5z8O"
      }
    },
    {
      "cell_type": "code",
      "source": [
        "c.teman1"
      ],
      "metadata": {
        "colab": {
          "base_uri": "https://localhost:8080/",
          "height": 35
        },
        "id": "_Fs3z_ze5k6d",
        "outputId": "d97798e8-0811-4360-ad20-10a09a3ceb01"
      },
      "execution_count": 26,
      "outputs": [
        {
          "output_type": "execute_result",
          "data": {
            "text/plain": [
              "'jajang'"
            ],
            "application/vnd.google.colaboratory.intrinsic+json": {
              "type": "string"
            }
          },
          "metadata": {},
          "execution_count": 26
        }
      ]
    },
    {
      "cell_type": "markdown",
      "source": [
        "boolean mask"
      ],
      "metadata": {
        "id": "yi_iiqis56OU"
      }
    },
    {
      "cell_type": "code",
      "source": [
        "c.loc[[True,True,True,True]]"
      ],
      "metadata": {
        "colab": {
          "base_uri": "https://localhost:8080/"
        },
        "id": "LITqQ_6o55Kt",
        "outputId": "3a88a8f5-003c-43e4-f8fd-447427f68b3e"
      },
      "execution_count": 27,
      "outputs": [
        {
          "output_type": "execute_result",
          "data": {
            "text/plain": [
              "teman1    jajang\n",
              "teman2    jijing\n",
              "teman3    jujung\n",
              "teman4    jojong\n",
              "dtype: object"
            ]
          },
          "metadata": {},
          "execution_count": 27
        }
      ]
    },
    {
      "cell_type": "code",
      "source": [
        "c.loc[[True,False,True,True]]"
      ],
      "metadata": {
        "colab": {
          "base_uri": "https://localhost:8080/"
        },
        "id": "kQLuq6tZ6WKF",
        "outputId": "8323830d-e51c-4d56-9669-40fe2ae13181"
      },
      "execution_count": 28,
      "outputs": [
        {
          "output_type": "execute_result",
          "data": {
            "text/plain": [
              "teman1    jajang\n",
              "teman3    jujung\n",
              "teman4    jojong\n",
              "dtype: object"
            ]
          },
          "metadata": {},
          "execution_count": 28
        }
      ]
    },
    {
      "cell_type": "code",
      "source": [
        "angka = pd.Series(range(30))"
      ],
      "metadata": {
        "id": "LC7v9JmR6ZYH"
      },
      "execution_count": 29,
      "outputs": []
    },
    {
      "cell_type": "code",
      "source": [
        "pd.Series(angka)"
      ],
      "metadata": {
        "colab": {
          "base_uri": "https://localhost:8080/"
        },
        "id": "K-ELE0mM6xn9",
        "outputId": "cfa8ea0a-36f4-4343-c50e-e331d3357c85"
      },
      "execution_count": 30,
      "outputs": [
        {
          "output_type": "execute_result",
          "data": {
            "text/plain": [
              "0      0\n",
              "1      1\n",
              "2      2\n",
              "3      3\n",
              "4      4\n",
              "5      5\n",
              "6      6\n",
              "7      7\n",
              "8      8\n",
              "9      9\n",
              "10    10\n",
              "11    11\n",
              "12    12\n",
              "13    13\n",
              "14    14\n",
              "15    15\n",
              "16    16\n",
              "17    17\n",
              "18    18\n",
              "19    19\n",
              "20    20\n",
              "21    21\n",
              "22    22\n",
              "23    23\n",
              "24    24\n",
              "25    25\n",
              "26    26\n",
              "27    27\n",
              "28    28\n",
              "29    29\n",
              "dtype: int64"
            ]
          },
          "metadata": {},
          "execution_count": 30
        }
      ]
    },
    {
      "cell_type": "code",
      "source": [
        "angka.loc[[True for i in range(30)]]"
      ],
      "metadata": {
        "colab": {
          "base_uri": "https://localhost:8080/"
        },
        "id": "EnUOJ_zp63R_",
        "outputId": "fc56cd2e-28be-47ae-93a7-af129c4945e1"
      },
      "execution_count": 31,
      "outputs": [
        {
          "output_type": "execute_result",
          "data": {
            "text/plain": [
              "0      0\n",
              "1      1\n",
              "2      2\n",
              "3      3\n",
              "4      4\n",
              "5      5\n",
              "6      6\n",
              "7      7\n",
              "8      8\n",
              "9      9\n",
              "10    10\n",
              "11    11\n",
              "12    12\n",
              "13    13\n",
              "14    14\n",
              "15    15\n",
              "16    16\n",
              "17    17\n",
              "18    18\n",
              "19    19\n",
              "20    20\n",
              "21    21\n",
              "22    22\n",
              "23    23\n",
              "24    24\n",
              "25    25\n",
              "26    26\n",
              "27    27\n",
              "28    28\n",
              "29    29\n",
              "dtype: int64"
            ]
          },
          "metadata": {},
          "execution_count": 31
        }
      ]
    },
    {
      "cell_type": "code",
      "source": [
        "angka.loc[[True if i%2 == 0 else False for i in range(30)]]"
      ],
      "metadata": {
        "colab": {
          "base_uri": "https://localhost:8080/"
        },
        "id": "NId0GcGs7GvL",
        "outputId": "2cbc6e05-ba1a-4a43-aa6a-f49eb949c3b4"
      },
      "execution_count": 32,
      "outputs": [
        {
          "output_type": "execute_result",
          "data": {
            "text/plain": [
              "0      0\n",
              "2      2\n",
              "4      4\n",
              "6      6\n",
              "8      8\n",
              "10    10\n",
              "12    12\n",
              "14    14\n",
              "16    16\n",
              "18    18\n",
              "20    20\n",
              "22    22\n",
              "24    24\n",
              "26    26\n",
              "28    28\n",
              "dtype: int64"
            ]
          },
          "metadata": {},
          "execution_count": 32
        }
      ]
    },
    {
      "cell_type": "markdown",
      "source": [
        "### menggunakan metode get"
      ],
      "metadata": {
        "id": "iukbslTg8lSr"
      }
    },
    {
      "cell_type": "code",
      "source": [
        "c.get('teman1')"
      ],
      "metadata": {
        "colab": {
          "base_uri": "https://localhost:8080/",
          "height": 35
        },
        "id": "8frlC9vf8npG",
        "outputId": "48f8c10d-debc-4eb6-a3a4-d0653e9c077a"
      },
      "execution_count": 33,
      "outputs": [
        {
          "output_type": "execute_result",
          "data": {
            "text/plain": [
              "'jajang'"
            ],
            "application/vnd.google.colaboratory.intrinsic+json": {
              "type": "string"
            }
          },
          "metadata": {},
          "execution_count": 33
        }
      ]
    },
    {
      "cell_type": "code",
      "source": [
        "c.get('teman5',default='nama teman tidak ada')"
      ],
      "metadata": {
        "colab": {
          "base_uri": "https://localhost:8080/",
          "height": 35
        },
        "id": "pJF6Y2gr8w8Y",
        "outputId": "c352186e-c6d0-473e-b1b0-82288ae3093a"
      },
      "execution_count": 34,
      "outputs": [
        {
          "output_type": "execute_result",
          "data": {
            "text/plain": [
              "'nama teman tidak ada'"
            ],
            "application/vnd.google.colaboratory.intrinsic+json": {
              "type": "string"
            }
          },
          "metadata": {},
          "execution_count": 34
        }
      ]
    },
    {
      "cell_type": "markdown",
      "source": [
        "### membuka file CSV"
      ],
      "metadata": {
        "id": "nNAh9VVqdO4z"
      }
    },
    {
      "cell_type": "code",
      "source": [
        "pd.read_csv('https://thinkjubilee.com/sekolah.csv')"
      ],
      "metadata": {
        "colab": {
          "base_uri": "https://localhost:8080/",
          "height": 1000
        },
        "id": "G9cSCZyf_cM-",
        "outputId": "5de0f9e4-e905-4395-bc25-643c48700a81"
      },
      "execution_count": 35,
      "outputs": [
        {
          "output_type": "execute_result",
          "data": {
            "text/plain": [
              "                Provinsi     SD    SMP    SMA     PT\n",
              "0                   ACEH  99.85  98.09  82.15  34.28\n",
              "1         SUMATERA UTARA  99.49  96.60  76.76  26.80\n",
              "2         SUMATERA BARAT  99.50  96.29  82.86  35.45\n",
              "3                   RIAU  98.98  94.73  76.52  27.28\n",
              "4                  JAMBI  99.59  95.89  71.54  24.12\n",
              "5       SUMATERA SELATAN  99.63  94.01  69.05  19.17\n",
              "6               BENGKULU  99.80  97.20  79.07  29.90\n",
              "7                LAMPUNG  99.78  94.76  70.03  20.96\n",
              "8   KEP. BANGKA BELITUNG  99.64  92.41  66.99  14.99\n",
              "9              KEP. RIAU  99.32  99.08  82.80  19.13\n",
              "10           DKI JAKARTA  99.67  97.64  71.50  24.60\n",
              "11            JAWA BARAT  99.51  93.77  66.62  21.50\n",
              "12           JAWA TENGAH  99.62  95.48  68.48  22.13\n",
              "13         DI YOGYAKARTA  99.87  99.63  87.61  51.33\n",
              "14            JAWA TIMUR  99.57  96.77  71.51  23.34\n",
              "15                BANTEN  99.31  95.67  67.77  21.33\n",
              "16                  BALI  99.44  97.72  82.16  26.56\n",
              "17   NUSA TENGGARA BARAT  99.43  97.69  76.61  28.52\n",
              "18   NUSA TENGGARA TIMUR  98.27  94.76  74.65  27.80\n",
              "19      KALIMANTAN BARAT  98.44  92.51  67.53  25.80\n",
              "20     KALIMANTAN TENGAH  99.50  93.37  66.62  24.15\n",
              "21    KALIMANTAN SELATAN  99.55  92.33  68.30  23.53\n",
              "22      KALIMANTAN TIMUR  99.67  98.79  81.32  30.04\n",
              "23      KALIMANTAN UTARA  98.34  96.04  75.12  20.72\n",
              "24        SULAWESI UTARA  99.37  94.91  73.04  24.22\n",
              "25       SULAWESI TENGAH  98.15  92.41  74.87  26.31\n",
              "26      SULAWESI SELATAN  99.16  93.09  70.60  32.16\n",
              "27     SULAWESI TENGGARA  99.32  94.08  72.94  30.03\n",
              "28             GORONTALO  98.76  91.23  69.86  29.21\n",
              "29        SULAWESI BARAT  98.10  89.88  68.03  23.49\n",
              "30                MALUKU  99.72  96.86  79.08  38.20\n",
              "31          MALUKU UTARA  99.19  97.24  76.06  32.10\n",
              "32           PAPUA BARAT  97.27  96.92  80.60  31.92\n",
              "33                 PAPUA  81.80  79.09  63.35  24.57"
            ],
            "text/html": [
              "\n",
              "  <div id=\"df-44a05ab9-7be3-4407-86fc-e9810ee08d54\" class=\"colab-df-container\">\n",
              "    <div>\n",
              "<style scoped>\n",
              "    .dataframe tbody tr th:only-of-type {\n",
              "        vertical-align: middle;\n",
              "    }\n",
              "\n",
              "    .dataframe tbody tr th {\n",
              "        vertical-align: top;\n",
              "    }\n",
              "\n",
              "    .dataframe thead th {\n",
              "        text-align: right;\n",
              "    }\n",
              "</style>\n",
              "<table border=\"1\" class=\"dataframe\">\n",
              "  <thead>\n",
              "    <tr style=\"text-align: right;\">\n",
              "      <th></th>\n",
              "      <th>Provinsi</th>\n",
              "      <th>SD</th>\n",
              "      <th>SMP</th>\n",
              "      <th>SMA</th>\n",
              "      <th>PT</th>\n",
              "    </tr>\n",
              "  </thead>\n",
              "  <tbody>\n",
              "    <tr>\n",
              "      <th>0</th>\n",
              "      <td>ACEH</td>\n",
              "      <td>99.85</td>\n",
              "      <td>98.09</td>\n",
              "      <td>82.15</td>\n",
              "      <td>34.28</td>\n",
              "    </tr>\n",
              "    <tr>\n",
              "      <th>1</th>\n",
              "      <td>SUMATERA UTARA</td>\n",
              "      <td>99.49</td>\n",
              "      <td>96.60</td>\n",
              "      <td>76.76</td>\n",
              "      <td>26.80</td>\n",
              "    </tr>\n",
              "    <tr>\n",
              "      <th>2</th>\n",
              "      <td>SUMATERA BARAT</td>\n",
              "      <td>99.50</td>\n",
              "      <td>96.29</td>\n",
              "      <td>82.86</td>\n",
              "      <td>35.45</td>\n",
              "    </tr>\n",
              "    <tr>\n",
              "      <th>3</th>\n",
              "      <td>RIAU</td>\n",
              "      <td>98.98</td>\n",
              "      <td>94.73</td>\n",
              "      <td>76.52</td>\n",
              "      <td>27.28</td>\n",
              "    </tr>\n",
              "    <tr>\n",
              "      <th>4</th>\n",
              "      <td>JAMBI</td>\n",
              "      <td>99.59</td>\n",
              "      <td>95.89</td>\n",
              "      <td>71.54</td>\n",
              "      <td>24.12</td>\n",
              "    </tr>\n",
              "    <tr>\n",
              "      <th>5</th>\n",
              "      <td>SUMATERA SELATAN</td>\n",
              "      <td>99.63</td>\n",
              "      <td>94.01</td>\n",
              "      <td>69.05</td>\n",
              "      <td>19.17</td>\n",
              "    </tr>\n",
              "    <tr>\n",
              "      <th>6</th>\n",
              "      <td>BENGKULU</td>\n",
              "      <td>99.80</td>\n",
              "      <td>97.20</td>\n",
              "      <td>79.07</td>\n",
              "      <td>29.90</td>\n",
              "    </tr>\n",
              "    <tr>\n",
              "      <th>7</th>\n",
              "      <td>LAMPUNG</td>\n",
              "      <td>99.78</td>\n",
              "      <td>94.76</td>\n",
              "      <td>70.03</td>\n",
              "      <td>20.96</td>\n",
              "    </tr>\n",
              "    <tr>\n",
              "      <th>8</th>\n",
              "      <td>KEP. BANGKA BELITUNG</td>\n",
              "      <td>99.64</td>\n",
              "      <td>92.41</td>\n",
              "      <td>66.99</td>\n",
              "      <td>14.99</td>\n",
              "    </tr>\n",
              "    <tr>\n",
              "      <th>9</th>\n",
              "      <td>KEP. RIAU</td>\n",
              "      <td>99.32</td>\n",
              "      <td>99.08</td>\n",
              "      <td>82.80</td>\n",
              "      <td>19.13</td>\n",
              "    </tr>\n",
              "    <tr>\n",
              "      <th>10</th>\n",
              "      <td>DKI JAKARTA</td>\n",
              "      <td>99.67</td>\n",
              "      <td>97.64</td>\n",
              "      <td>71.50</td>\n",
              "      <td>24.60</td>\n",
              "    </tr>\n",
              "    <tr>\n",
              "      <th>11</th>\n",
              "      <td>JAWA BARAT</td>\n",
              "      <td>99.51</td>\n",
              "      <td>93.77</td>\n",
              "      <td>66.62</td>\n",
              "      <td>21.50</td>\n",
              "    </tr>\n",
              "    <tr>\n",
              "      <th>12</th>\n",
              "      <td>JAWA TENGAH</td>\n",
              "      <td>99.62</td>\n",
              "      <td>95.48</td>\n",
              "      <td>68.48</td>\n",
              "      <td>22.13</td>\n",
              "    </tr>\n",
              "    <tr>\n",
              "      <th>13</th>\n",
              "      <td>DI YOGYAKARTA</td>\n",
              "      <td>99.87</td>\n",
              "      <td>99.63</td>\n",
              "      <td>87.61</td>\n",
              "      <td>51.33</td>\n",
              "    </tr>\n",
              "    <tr>\n",
              "      <th>14</th>\n",
              "      <td>JAWA TIMUR</td>\n",
              "      <td>99.57</td>\n",
              "      <td>96.77</td>\n",
              "      <td>71.51</td>\n",
              "      <td>23.34</td>\n",
              "    </tr>\n",
              "    <tr>\n",
              "      <th>15</th>\n",
              "      <td>BANTEN</td>\n",
              "      <td>99.31</td>\n",
              "      <td>95.67</td>\n",
              "      <td>67.77</td>\n",
              "      <td>21.33</td>\n",
              "    </tr>\n",
              "    <tr>\n",
              "      <th>16</th>\n",
              "      <td>BALI</td>\n",
              "      <td>99.44</td>\n",
              "      <td>97.72</td>\n",
              "      <td>82.16</td>\n",
              "      <td>26.56</td>\n",
              "    </tr>\n",
              "    <tr>\n",
              "      <th>17</th>\n",
              "      <td>NUSA TENGGARA BARAT</td>\n",
              "      <td>99.43</td>\n",
              "      <td>97.69</td>\n",
              "      <td>76.61</td>\n",
              "      <td>28.52</td>\n",
              "    </tr>\n",
              "    <tr>\n",
              "      <th>18</th>\n",
              "      <td>NUSA TENGGARA TIMUR</td>\n",
              "      <td>98.27</td>\n",
              "      <td>94.76</td>\n",
              "      <td>74.65</td>\n",
              "      <td>27.80</td>\n",
              "    </tr>\n",
              "    <tr>\n",
              "      <th>19</th>\n",
              "      <td>KALIMANTAN BARAT</td>\n",
              "      <td>98.44</td>\n",
              "      <td>92.51</td>\n",
              "      <td>67.53</td>\n",
              "      <td>25.80</td>\n",
              "    </tr>\n",
              "    <tr>\n",
              "      <th>20</th>\n",
              "      <td>KALIMANTAN TENGAH</td>\n",
              "      <td>99.50</td>\n",
              "      <td>93.37</td>\n",
              "      <td>66.62</td>\n",
              "      <td>24.15</td>\n",
              "    </tr>\n",
              "    <tr>\n",
              "      <th>21</th>\n",
              "      <td>KALIMANTAN SELATAN</td>\n",
              "      <td>99.55</td>\n",
              "      <td>92.33</td>\n",
              "      <td>68.30</td>\n",
              "      <td>23.53</td>\n",
              "    </tr>\n",
              "    <tr>\n",
              "      <th>22</th>\n",
              "      <td>KALIMANTAN TIMUR</td>\n",
              "      <td>99.67</td>\n",
              "      <td>98.79</td>\n",
              "      <td>81.32</td>\n",
              "      <td>30.04</td>\n",
              "    </tr>\n",
              "    <tr>\n",
              "      <th>23</th>\n",
              "      <td>KALIMANTAN UTARA</td>\n",
              "      <td>98.34</td>\n",
              "      <td>96.04</td>\n",
              "      <td>75.12</td>\n",
              "      <td>20.72</td>\n",
              "    </tr>\n",
              "    <tr>\n",
              "      <th>24</th>\n",
              "      <td>SULAWESI UTARA</td>\n",
              "      <td>99.37</td>\n",
              "      <td>94.91</td>\n",
              "      <td>73.04</td>\n",
              "      <td>24.22</td>\n",
              "    </tr>\n",
              "    <tr>\n",
              "      <th>25</th>\n",
              "      <td>SULAWESI TENGAH</td>\n",
              "      <td>98.15</td>\n",
              "      <td>92.41</td>\n",
              "      <td>74.87</td>\n",
              "      <td>26.31</td>\n",
              "    </tr>\n",
              "    <tr>\n",
              "      <th>26</th>\n",
              "      <td>SULAWESI SELATAN</td>\n",
              "      <td>99.16</td>\n",
              "      <td>93.09</td>\n",
              "      <td>70.60</td>\n",
              "      <td>32.16</td>\n",
              "    </tr>\n",
              "    <tr>\n",
              "      <th>27</th>\n",
              "      <td>SULAWESI TENGGARA</td>\n",
              "      <td>99.32</td>\n",
              "      <td>94.08</td>\n",
              "      <td>72.94</td>\n",
              "      <td>30.03</td>\n",
              "    </tr>\n",
              "    <tr>\n",
              "      <th>28</th>\n",
              "      <td>GORONTALO</td>\n",
              "      <td>98.76</td>\n",
              "      <td>91.23</td>\n",
              "      <td>69.86</td>\n",
              "      <td>29.21</td>\n",
              "    </tr>\n",
              "    <tr>\n",
              "      <th>29</th>\n",
              "      <td>SULAWESI BARAT</td>\n",
              "      <td>98.10</td>\n",
              "      <td>89.88</td>\n",
              "      <td>68.03</td>\n",
              "      <td>23.49</td>\n",
              "    </tr>\n",
              "    <tr>\n",
              "      <th>30</th>\n",
              "      <td>MALUKU</td>\n",
              "      <td>99.72</td>\n",
              "      <td>96.86</td>\n",
              "      <td>79.08</td>\n",
              "      <td>38.20</td>\n",
              "    </tr>\n",
              "    <tr>\n",
              "      <th>31</th>\n",
              "      <td>MALUKU UTARA</td>\n",
              "      <td>99.19</td>\n",
              "      <td>97.24</td>\n",
              "      <td>76.06</td>\n",
              "      <td>32.10</td>\n",
              "    </tr>\n",
              "    <tr>\n",
              "      <th>32</th>\n",
              "      <td>PAPUA BARAT</td>\n",
              "      <td>97.27</td>\n",
              "      <td>96.92</td>\n",
              "      <td>80.60</td>\n",
              "      <td>31.92</td>\n",
              "    </tr>\n",
              "    <tr>\n",
              "      <th>33</th>\n",
              "      <td>PAPUA</td>\n",
              "      <td>81.80</td>\n",
              "      <td>79.09</td>\n",
              "      <td>63.35</td>\n",
              "      <td>24.57</td>\n",
              "    </tr>\n",
              "  </tbody>\n",
              "</table>\n",
              "</div>\n",
              "    <div class=\"colab-df-buttons\">\n",
              "\n",
              "  <div class=\"colab-df-container\">\n",
              "    <button class=\"colab-df-convert\" onclick=\"convertToInteractive('df-44a05ab9-7be3-4407-86fc-e9810ee08d54')\"\n",
              "            title=\"Convert this dataframe to an interactive table.\"\n",
              "            style=\"display:none;\">\n",
              "\n",
              "  <svg xmlns=\"http://www.w3.org/2000/svg\" height=\"24px\" viewBox=\"0 -960 960 960\">\n",
              "    <path d=\"M120-120v-720h720v720H120Zm60-500h600v-160H180v160Zm220 220h160v-160H400v160Zm0 220h160v-160H400v160ZM180-400h160v-160H180v160Zm440 0h160v-160H620v160ZM180-180h160v-160H180v160Zm440 0h160v-160H620v160Z\"/>\n",
              "  </svg>\n",
              "    </button>\n",
              "\n",
              "  <style>\n",
              "    .colab-df-container {\n",
              "      display:flex;\n",
              "      gap: 12px;\n",
              "    }\n",
              "\n",
              "    .colab-df-convert {\n",
              "      background-color: #E8F0FE;\n",
              "      border: none;\n",
              "      border-radius: 50%;\n",
              "      cursor: pointer;\n",
              "      display: none;\n",
              "      fill: #1967D2;\n",
              "      height: 32px;\n",
              "      padding: 0 0 0 0;\n",
              "      width: 32px;\n",
              "    }\n",
              "\n",
              "    .colab-df-convert:hover {\n",
              "      background-color: #E2EBFA;\n",
              "      box-shadow: 0px 1px 2px rgba(60, 64, 67, 0.3), 0px 1px 3px 1px rgba(60, 64, 67, 0.15);\n",
              "      fill: #174EA6;\n",
              "    }\n",
              "\n",
              "    .colab-df-buttons div {\n",
              "      margin-bottom: 4px;\n",
              "    }\n",
              "\n",
              "    [theme=dark] .colab-df-convert {\n",
              "      background-color: #3B4455;\n",
              "      fill: #D2E3FC;\n",
              "    }\n",
              "\n",
              "    [theme=dark] .colab-df-convert:hover {\n",
              "      background-color: #434B5C;\n",
              "      box-shadow: 0px 1px 3px 1px rgba(0, 0, 0, 0.15);\n",
              "      filter: drop-shadow(0px 1px 2px rgba(0, 0, 0, 0.3));\n",
              "      fill: #FFFFFF;\n",
              "    }\n",
              "  </style>\n",
              "\n",
              "    <script>\n",
              "      const buttonEl =\n",
              "        document.querySelector('#df-44a05ab9-7be3-4407-86fc-e9810ee08d54 button.colab-df-convert');\n",
              "      buttonEl.style.display =\n",
              "        google.colab.kernel.accessAllowed ? 'block' : 'none';\n",
              "\n",
              "      async function convertToInteractive(key) {\n",
              "        const element = document.querySelector('#df-44a05ab9-7be3-4407-86fc-e9810ee08d54');\n",
              "        const dataTable =\n",
              "          await google.colab.kernel.invokeFunction('convertToInteractive',\n",
              "                                                    [key], {});\n",
              "        if (!dataTable) return;\n",
              "\n",
              "        const docLinkHtml = 'Like what you see? Visit the ' +\n",
              "          '<a target=\"_blank\" href=https://colab.research.google.com/notebooks/data_table.ipynb>data table notebook</a>'\n",
              "          + ' to learn more about interactive tables.';\n",
              "        element.innerHTML = '';\n",
              "        dataTable['output_type'] = 'display_data';\n",
              "        await google.colab.output.renderOutput(dataTable, element);\n",
              "        const docLink = document.createElement('div');\n",
              "        docLink.innerHTML = docLinkHtml;\n",
              "        element.appendChild(docLink);\n",
              "      }\n",
              "    </script>\n",
              "  </div>\n",
              "\n",
              "\n",
              "<div id=\"df-ef4873e1-b166-4458-a08d-afa3f0e08cc2\">\n",
              "  <button class=\"colab-df-quickchart\" onclick=\"quickchart('df-ef4873e1-b166-4458-a08d-afa3f0e08cc2')\"\n",
              "            title=\"Suggest charts\"\n",
              "            style=\"display:none;\">\n",
              "\n",
              "<svg xmlns=\"http://www.w3.org/2000/svg\" height=\"24px\"viewBox=\"0 0 24 24\"\n",
              "     width=\"24px\">\n",
              "    <g>\n",
              "        <path d=\"M19 3H5c-1.1 0-2 .9-2 2v14c0 1.1.9 2 2 2h14c1.1 0 2-.9 2-2V5c0-1.1-.9-2-2-2zM9 17H7v-7h2v7zm4 0h-2V7h2v10zm4 0h-2v-4h2v4z\"/>\n",
              "    </g>\n",
              "</svg>\n",
              "  </button>\n",
              "\n",
              "<style>\n",
              "  .colab-df-quickchart {\n",
              "      --bg-color: #E8F0FE;\n",
              "      --fill-color: #1967D2;\n",
              "      --hover-bg-color: #E2EBFA;\n",
              "      --hover-fill-color: #174EA6;\n",
              "      --disabled-fill-color: #AAA;\n",
              "      --disabled-bg-color: #DDD;\n",
              "  }\n",
              "\n",
              "  [theme=dark] .colab-df-quickchart {\n",
              "      --bg-color: #3B4455;\n",
              "      --fill-color: #D2E3FC;\n",
              "      --hover-bg-color: #434B5C;\n",
              "      --hover-fill-color: #FFFFFF;\n",
              "      --disabled-bg-color: #3B4455;\n",
              "      --disabled-fill-color: #666;\n",
              "  }\n",
              "\n",
              "  .colab-df-quickchart {\n",
              "    background-color: var(--bg-color);\n",
              "    border: none;\n",
              "    border-radius: 50%;\n",
              "    cursor: pointer;\n",
              "    display: none;\n",
              "    fill: var(--fill-color);\n",
              "    height: 32px;\n",
              "    padding: 0;\n",
              "    width: 32px;\n",
              "  }\n",
              "\n",
              "  .colab-df-quickchart:hover {\n",
              "    background-color: var(--hover-bg-color);\n",
              "    box-shadow: 0 1px 2px rgba(60, 64, 67, 0.3), 0 1px 3px 1px rgba(60, 64, 67, 0.15);\n",
              "    fill: var(--button-hover-fill-color);\n",
              "  }\n",
              "\n",
              "  .colab-df-quickchart-complete:disabled,\n",
              "  .colab-df-quickchart-complete:disabled:hover {\n",
              "    background-color: var(--disabled-bg-color);\n",
              "    fill: var(--disabled-fill-color);\n",
              "    box-shadow: none;\n",
              "  }\n",
              "\n",
              "  .colab-df-spinner {\n",
              "    border: 2px solid var(--fill-color);\n",
              "    border-color: transparent;\n",
              "    border-bottom-color: var(--fill-color);\n",
              "    animation:\n",
              "      spin 1s steps(1) infinite;\n",
              "  }\n",
              "\n",
              "  @keyframes spin {\n",
              "    0% {\n",
              "      border-color: transparent;\n",
              "      border-bottom-color: var(--fill-color);\n",
              "      border-left-color: var(--fill-color);\n",
              "    }\n",
              "    20% {\n",
              "      border-color: transparent;\n",
              "      border-left-color: var(--fill-color);\n",
              "      border-top-color: var(--fill-color);\n",
              "    }\n",
              "    30% {\n",
              "      border-color: transparent;\n",
              "      border-left-color: var(--fill-color);\n",
              "      border-top-color: var(--fill-color);\n",
              "      border-right-color: var(--fill-color);\n",
              "    }\n",
              "    40% {\n",
              "      border-color: transparent;\n",
              "      border-right-color: var(--fill-color);\n",
              "      border-top-color: var(--fill-color);\n",
              "    }\n",
              "    60% {\n",
              "      border-color: transparent;\n",
              "      border-right-color: var(--fill-color);\n",
              "    }\n",
              "    80% {\n",
              "      border-color: transparent;\n",
              "      border-right-color: var(--fill-color);\n",
              "      border-bottom-color: var(--fill-color);\n",
              "    }\n",
              "    90% {\n",
              "      border-color: transparent;\n",
              "      border-bottom-color: var(--fill-color);\n",
              "    }\n",
              "  }\n",
              "</style>\n",
              "\n",
              "  <script>\n",
              "    async function quickchart(key) {\n",
              "      const quickchartButtonEl =\n",
              "        document.querySelector('#' + key + ' button');\n",
              "      quickchartButtonEl.disabled = true;  // To prevent multiple clicks.\n",
              "      quickchartButtonEl.classList.add('colab-df-spinner');\n",
              "      try {\n",
              "        const charts = await google.colab.kernel.invokeFunction(\n",
              "            'suggestCharts', [key], {});\n",
              "      } catch (error) {\n",
              "        console.error('Error during call to suggestCharts:', error);\n",
              "      }\n",
              "      quickchartButtonEl.classList.remove('colab-df-spinner');\n",
              "      quickchartButtonEl.classList.add('colab-df-quickchart-complete');\n",
              "    }\n",
              "    (() => {\n",
              "      let quickchartButtonEl =\n",
              "        document.querySelector('#df-ef4873e1-b166-4458-a08d-afa3f0e08cc2 button');\n",
              "      quickchartButtonEl.style.display =\n",
              "        google.colab.kernel.accessAllowed ? 'block' : 'none';\n",
              "    })();\n",
              "  </script>\n",
              "</div>\n",
              "    </div>\n",
              "  </div>\n"
            ]
          },
          "metadata": {},
          "execution_count": 35
        }
      ]
    },
    {
      "cell_type": "markdown",
      "source": [
        "### Sekilas tentang Series dan dataframe"
      ],
      "metadata": {
        "id": "jxYuMu9Cdq6Z"
      }
    },
    {
      "cell_type": "code",
      "source": [
        "pd.read_csv('https://thinkjubilee.com/sekolah.csv', usecols=['Provinsi', 'SD'], index_col='Provinsi',squeeze=True)"
      ],
      "metadata": {
        "colab": {
          "base_uri": "https://localhost:8080/"
        },
        "id": "KgGY2uHCB9G0",
        "outputId": "edaf7d40-f53f-4f9d-aa7c-374d67b4b223"
      },
      "execution_count": 36,
      "outputs": [
        {
          "output_type": "stream",
          "name": "stderr",
          "text": [
            "<ipython-input-36-5ffc9454e2a9>:1: FutureWarning: The squeeze argument has been deprecated and will be removed in a future version. Append .squeeze(\"columns\") to the call to squeeze.\n",
            "\n",
            "\n",
            "  pd.read_csv('https://thinkjubilee.com/sekolah.csv', usecols=['Provinsi', 'SD'], index_col='Provinsi',squeeze=True)\n"
          ]
        },
        {
          "output_type": "execute_result",
          "data": {
            "text/plain": [
              "Provinsi\n",
              "ACEH                    99.85\n",
              "SUMATERA UTARA          99.49\n",
              "SUMATERA BARAT          99.50\n",
              "RIAU                    98.98\n",
              "JAMBI                   99.59\n",
              "SUMATERA SELATAN        99.63\n",
              "BENGKULU                99.80\n",
              "LAMPUNG                 99.78\n",
              "KEP. BANGKA BELITUNG    99.64\n",
              "KEP. RIAU               99.32\n",
              "DKI JAKARTA             99.67\n",
              "JAWA BARAT              99.51\n",
              "JAWA TENGAH             99.62\n",
              "DI YOGYAKARTA           99.87\n",
              "JAWA TIMUR              99.57\n",
              "BANTEN                  99.31\n",
              "BALI                    99.44\n",
              "NUSA TENGGARA BARAT     99.43\n",
              "NUSA TENGGARA TIMUR     98.27\n",
              "KALIMANTAN BARAT        98.44\n",
              "KALIMANTAN TENGAH       99.50\n",
              "KALIMANTAN SELATAN      99.55\n",
              "KALIMANTAN TIMUR        99.67\n",
              "KALIMANTAN UTARA        98.34\n",
              "SULAWESI UTARA          99.37\n",
              "SULAWESI TENGAH         98.15\n",
              "SULAWESI SELATAN        99.16\n",
              "SULAWESI TENGGARA       99.32\n",
              "GORONTALO               98.76\n",
              "SULAWESI BARAT          98.10\n",
              "MALUKU                  99.72\n",
              "MALUKU UTARA            99.19\n",
              "PAPUA BARAT             97.27\n",
              "PAPUA                   81.80\n",
              "Name: SD, dtype: float64"
            ]
          },
          "metadata": {},
          "execution_count": 36
        }
      ]
    },
    {
      "cell_type": "code",
      "source": [
        "pendidikan = pd.read_csv('https://thinkjubilee.com/sekolah.csv')"
      ],
      "metadata": {
        "id": "rI6ZP0HSBKt3"
      },
      "execution_count": 37,
      "outputs": []
    },
    {
      "cell_type": "code",
      "source": [
        "type(pendidikan)"
      ],
      "metadata": {
        "colab": {
          "base_uri": "https://localhost:8080/"
        },
        "id": "X9GF7vl3Yiky",
        "outputId": "979f098f-e3f5-4302-e247-1dd8ed16c4dc"
      },
      "execution_count": 38,
      "outputs": [
        {
          "output_type": "execute_result",
          "data": {
            "text/plain": [
              "pandas.core.frame.DataFrame"
            ]
          },
          "metadata": {},
          "execution_count": 38
        }
      ]
    },
    {
      "cell_type": "markdown",
      "source": [
        "### atribut dan fungsi pada series"
      ],
      "metadata": {
        "id": "8hVmXuE5eDRu"
      }
    },
    {
      "cell_type": "code",
      "source": [
        "pendidikan = pd.read_csv('https://thinkjubilee.com/sekolah.csv', usecols=['Provinsi', 'SD'], index_col='Provinsi',squeeze=True)"
      ],
      "metadata": {
        "colab": {
          "base_uri": "https://localhost:8080/"
        },
        "id": "X2eMQ49uYlTj",
        "outputId": "8226b2b8-b46d-4ffb-be3c-c0c9bdfc7833"
      },
      "execution_count": 39,
      "outputs": [
        {
          "output_type": "stream",
          "name": "stderr",
          "text": [
            "<ipython-input-39-69dbcde758a1>:1: FutureWarning: The squeeze argument has been deprecated and will be removed in a future version. Append .squeeze(\"columns\") to the call to squeeze.\n",
            "\n",
            "\n",
            "  pendidikan = pd.read_csv('https://thinkjubilee.com/sekolah.csv', usecols=['Provinsi', 'SD'], index_col='Provinsi',squeeze=True)\n"
          ]
        }
      ]
    },
    {
      "cell_type": "code",
      "source": [
        "type(pendidikan)"
      ],
      "metadata": {
        "colab": {
          "base_uri": "https://localhost:8080/"
        },
        "id": "rHHZoahiYrl8",
        "outputId": "854b9377-0be2-4315-c025-f495c80f2197"
      },
      "execution_count": 40,
      "outputs": [
        {
          "output_type": "execute_result",
          "data": {
            "text/plain": [
              "pandas.core.series.Series"
            ]
          },
          "metadata": {},
          "execution_count": 40
        }
      ]
    },
    {
      "cell_type": "code",
      "source": [
        "pendidikan.size"
      ],
      "metadata": {
        "colab": {
          "base_uri": "https://localhost:8080/"
        },
        "id": "Akh4fW1bYvu8",
        "outputId": "f455b31d-6f97-48ef-cfc5-dacf7f8a8859"
      },
      "execution_count": 41,
      "outputs": [
        {
          "output_type": "execute_result",
          "data": {
            "text/plain": [
              "34"
            ]
          },
          "metadata": {},
          "execution_count": 41
        }
      ]
    },
    {
      "cell_type": "code",
      "source": [
        "pendidikan"
      ],
      "metadata": {
        "colab": {
          "base_uri": "https://localhost:8080/"
        },
        "id": "VPG2rxCgY1ct",
        "outputId": "996c4ebe-7d41-41ad-d1fb-4d90963f141a"
      },
      "execution_count": 42,
      "outputs": [
        {
          "output_type": "execute_result",
          "data": {
            "text/plain": [
              "Provinsi\n",
              "ACEH                    99.85\n",
              "SUMATERA UTARA          99.49\n",
              "SUMATERA BARAT          99.50\n",
              "RIAU                    98.98\n",
              "JAMBI                   99.59\n",
              "SUMATERA SELATAN        99.63\n",
              "BENGKULU                99.80\n",
              "LAMPUNG                 99.78\n",
              "KEP. BANGKA BELITUNG    99.64\n",
              "KEP. RIAU               99.32\n",
              "DKI JAKARTA             99.67\n",
              "JAWA BARAT              99.51\n",
              "JAWA TENGAH             99.62\n",
              "DI YOGYAKARTA           99.87\n",
              "JAWA TIMUR              99.57\n",
              "BANTEN                  99.31\n",
              "BALI                    99.44\n",
              "NUSA TENGGARA BARAT     99.43\n",
              "NUSA TENGGARA TIMUR     98.27\n",
              "KALIMANTAN BARAT        98.44\n",
              "KALIMANTAN TENGAH       99.50\n",
              "KALIMANTAN SELATAN      99.55\n",
              "KALIMANTAN TIMUR        99.67\n",
              "KALIMANTAN UTARA        98.34\n",
              "SULAWESI UTARA          99.37\n",
              "SULAWESI TENGAH         98.15\n",
              "SULAWESI SELATAN        99.16\n",
              "SULAWESI TENGGARA       99.32\n",
              "GORONTALO               98.76\n",
              "SULAWESI BARAT          98.10\n",
              "MALUKU                  99.72\n",
              "MALUKU UTARA            99.19\n",
              "PAPUA BARAT             97.27\n",
              "PAPUA                   81.80\n",
              "Name: SD, dtype: float64"
            ]
          },
          "metadata": {},
          "execution_count": 42
        }
      ]
    },
    {
      "cell_type": "code",
      "source": [
        "pendidikan.values"
      ],
      "metadata": {
        "colab": {
          "base_uri": "https://localhost:8080/"
        },
        "id": "FFGlnhBXZMH-",
        "outputId": "9cf7d114-57df-4eb6-d7e3-75305c4dc3e8"
      },
      "execution_count": 43,
      "outputs": [
        {
          "output_type": "execute_result",
          "data": {
            "text/plain": [
              "array([99.85, 99.49, 99.5 , 98.98, 99.59, 99.63, 99.8 , 99.78, 99.64,\n",
              "       99.32, 99.67, 99.51, 99.62, 99.87, 99.57, 99.31, 99.44, 99.43,\n",
              "       98.27, 98.44, 99.5 , 99.55, 99.67, 98.34, 99.37, 98.15, 99.16,\n",
              "       99.32, 98.76, 98.1 , 99.72, 99.19, 97.27, 81.8 ])"
            ]
          },
          "metadata": {},
          "execution_count": 43
        }
      ]
    },
    {
      "cell_type": "code",
      "source": [
        "pendidikan.index"
      ],
      "metadata": {
        "colab": {
          "base_uri": "https://localhost:8080/"
        },
        "id": "aectvUZLZPX6",
        "outputId": "09ca23b7-06fa-46ee-d8b0-c5d75e4834e1"
      },
      "execution_count": 44,
      "outputs": [
        {
          "output_type": "execute_result",
          "data": {
            "text/plain": [
              "Index(['ACEH', 'SUMATERA UTARA', 'SUMATERA BARAT', 'RIAU', 'JAMBI',\n",
              "       'SUMATERA SELATAN', 'BENGKULU', 'LAMPUNG', 'KEP. BANGKA BELITUNG',\n",
              "       'KEP. RIAU', 'DKI JAKARTA', 'JAWA BARAT', 'JAWA TENGAH',\n",
              "       'DI YOGYAKARTA', 'JAWA TIMUR', 'BANTEN', 'BALI', 'NUSA TENGGARA BARAT',\n",
              "       'NUSA TENGGARA TIMUR', 'KALIMANTAN BARAT', 'KALIMANTAN TENGAH',\n",
              "       'KALIMANTAN SELATAN', 'KALIMANTAN TIMUR', 'KALIMANTAN UTARA',\n",
              "       'SULAWESI UTARA', 'SULAWESI TENGAH', 'SULAWESI SELATAN',\n",
              "       'SULAWESI TENGGARA', 'GORONTALO', 'SULAWESI BARAT', 'MALUKU',\n",
              "       'MALUKU UTARA', 'PAPUA BARAT', 'PAPUA'],\n",
              "      dtype='object', name='Provinsi')"
            ]
          },
          "metadata": {},
          "execution_count": 44
        }
      ]
    },
    {
      "cell_type": "code",
      "source": [
        "pendidikan.values.size == pendidikan.index.size"
      ],
      "metadata": {
        "colab": {
          "base_uri": "https://localhost:8080/"
        },
        "id": "zzEl3fO4Z99b",
        "outputId": "ce744cb7-d411-48cc-8983-cb010b208bce"
      },
      "execution_count": 45,
      "outputs": [
        {
          "output_type": "execute_result",
          "data": {
            "text/plain": [
              "True"
            ]
          },
          "metadata": {},
          "execution_count": 45
        }
      ]
    },
    {
      "cell_type": "code",
      "source": [
        "len(pendidikan)"
      ],
      "metadata": {
        "colab": {
          "base_uri": "https://localhost:8080/"
        },
        "id": "0UYZBVElakps",
        "outputId": "4ed0f864-8fa4-4367-ebed-378e8e0cacf7"
      },
      "execution_count": 46,
      "outputs": [
        {
          "output_type": "execute_result",
          "data": {
            "text/plain": [
              "34"
            ]
          },
          "metadata": {},
          "execution_count": 46
        }
      ]
    },
    {
      "cell_type": "code",
      "source": [
        "pendidikan.shape"
      ],
      "metadata": {
        "colab": {
          "base_uri": "https://localhost:8080/"
        },
        "id": "La5x-XioamhC",
        "outputId": "2e789047-e4e9-4038-9064-fd1512032b21"
      },
      "execution_count": 47,
      "outputs": [
        {
          "output_type": "execute_result",
          "data": {
            "text/plain": [
              "(34,)"
            ]
          },
          "metadata": {},
          "execution_count": 47
        }
      ]
    },
    {
      "cell_type": "code",
      "source": [
        "pendidikan2 = pd.read_csv('https://thinkjubilee.com/sekolah.csv')"
      ],
      "metadata": {
        "id": "2NEwOep_as1q"
      },
      "execution_count": 48,
      "outputs": []
    },
    {
      "cell_type": "code",
      "source": [
        "pendidikan2.shape"
      ],
      "metadata": {
        "colab": {
          "base_uri": "https://localhost:8080/"
        },
        "id": "uw9M44n_bKYE",
        "outputId": "17480e7e-15e3-4a48-be83-0393524206cb"
      },
      "execution_count": 49,
      "outputs": [
        {
          "output_type": "execute_result",
          "data": {
            "text/plain": [
              "(34, 5)"
            ]
          },
          "metadata": {},
          "execution_count": 49
        }
      ]
    },
    {
      "cell_type": "markdown",
      "source": [
        "### unik dan monotonik"
      ],
      "metadata": {
        "id": "1wbu5mTgeM0X"
      }
    },
    {
      "cell_type": "code",
      "source": [
        "pendidikan.is_unique"
      ],
      "metadata": {
        "colab": {
          "base_uri": "https://localhost:8080/"
        },
        "id": "3OwRsxkJbM8M",
        "outputId": "c4072d70-87ee-4217-85c1-78ace1ede8e6"
      },
      "execution_count": 50,
      "outputs": [
        {
          "output_type": "execute_result",
          "data": {
            "text/plain": [
              "False"
            ]
          },
          "metadata": {},
          "execution_count": 50
        }
      ]
    },
    {
      "cell_type": "code",
      "source": [
        "pendidikan.head(5)"
      ],
      "metadata": {
        "colab": {
          "base_uri": "https://localhost:8080/"
        },
        "id": "MA4ORVSlcWMF",
        "outputId": "832dd51b-ea09-416a-f557-759faba1b192"
      },
      "execution_count": 51,
      "outputs": [
        {
          "output_type": "execute_result",
          "data": {
            "text/plain": [
              "Provinsi\n",
              "ACEH              99.85\n",
              "SUMATERA UTARA    99.49\n",
              "SUMATERA BARAT    99.50\n",
              "RIAU              98.98\n",
              "JAMBI             99.59\n",
              "Name: SD, dtype: float64"
            ]
          },
          "metadata": {},
          "execution_count": 51
        }
      ]
    },
    {
      "cell_type": "code",
      "source": [
        "pendidikan.head(5).is_unique"
      ],
      "metadata": {
        "colab": {
          "base_uri": "https://localhost:8080/"
        },
        "id": "rLrUK8P7cYkC",
        "outputId": "77e64aa6-6601-4767-d52d-030782351656"
      },
      "execution_count": 52,
      "outputs": [
        {
          "output_type": "execute_result",
          "data": {
            "text/plain": [
              "True"
            ]
          },
          "metadata": {},
          "execution_count": 52
        }
      ]
    },
    {
      "cell_type": "code",
      "source": [
        "pendidikan.nunique()"
      ],
      "metadata": {
        "colab": {
          "base_uri": "https://localhost:8080/"
        },
        "id": "Msql6IsockY8",
        "outputId": "3c882808-94f3-41d5-924d-735898b30125"
      },
      "execution_count": 53,
      "outputs": [
        {
          "output_type": "execute_result",
          "data": {
            "text/plain": [
              "31"
            ]
          },
          "metadata": {},
          "execution_count": 53
        }
      ]
    },
    {
      "cell_type": "code",
      "source": [
        "pendidikan.is_monotonic_increasing"
      ],
      "metadata": {
        "colab": {
          "base_uri": "https://localhost:8080/"
        },
        "id": "ZJS_lpmRc0vl",
        "outputId": "78e7ef89-e773-460a-87ca-5841ade7bc4d"
      },
      "execution_count": 54,
      "outputs": [
        {
          "output_type": "execute_result",
          "data": {
            "text/plain": [
              "False"
            ]
          },
          "metadata": {},
          "execution_count": 54
        }
      ]
    },
    {
      "cell_type": "code",
      "source": [
        "pd.Series([1,2,3,4,5]).is_monotonic_increasing"
      ],
      "metadata": {
        "colab": {
          "base_uri": "https://localhost:8080/"
        },
        "id": "ZKnxwz-0dLsJ",
        "outputId": "e6b04aee-e6cc-45ed-8aca-32486d8b3231"
      },
      "execution_count": 55,
      "outputs": [
        {
          "output_type": "execute_result",
          "data": {
            "text/plain": [
              "True"
            ]
          },
          "metadata": {},
          "execution_count": 55
        }
      ]
    },
    {
      "cell_type": "code",
      "source": [
        "pendidikan.is_monotonic_increasing"
      ],
      "metadata": {
        "colab": {
          "base_uri": "https://localhost:8080/"
        },
        "id": "0HuNTJc0dmCI",
        "outputId": "4ffe45d6-201b-41fd-f703-21017f012266"
      },
      "execution_count": 56,
      "outputs": [
        {
          "output_type": "execute_result",
          "data": {
            "text/plain": [
              "False"
            ]
          },
          "metadata": {},
          "execution_count": 56
        }
      ]
    },
    {
      "cell_type": "markdown",
      "source": [
        "tugas 2"
      ],
      "metadata": {
        "id": "VLNBv4WQeyip"
      }
    },
    {
      "cell_type": "code",
      "source": [
        "nilai = pd.Series([2,4,6,8,10]).is_unique\n",
        "print(nilai)\n"
      ],
      "metadata": {
        "colab": {
          "base_uri": "https://localhost:8080/"
        },
        "id": "t7BJbHHHejWb",
        "outputId": "d4492dc3-a80c-431a-cb75-e9c5926afb58"
      },
      "execution_count": 57,
      "outputs": [
        {
          "output_type": "stream",
          "name": "stdout",
          "text": [
            "True\n"
          ]
        }
      ]
    },
    {
      "cell_type": "code",
      "source": [
        "nilai = pd.Series([2,4,6,8,10]).is_monotonic_increasing\n",
        "print(nilai)"
      ],
      "metadata": {
        "colab": {
          "base_uri": "https://localhost:8080/"
        },
        "id": "0LRiF82fe3zA",
        "outputId": "c4ff27ad-d633-4276-e289-e7432c8f8e33"
      },
      "execution_count": 58,
      "outputs": [
        {
          "output_type": "stream",
          "name": "stdout",
          "text": [
            "True\n"
          ]
        }
      ]
    },
    {
      "cell_type": "markdown",
      "source": [
        "### None/null"
      ],
      "metadata": {
        "id": "xrilqWHjeYpu"
      }
    },
    {
      "cell_type": "code",
      "source": [
        "tes = pd.Series([10,9,8,7,6,None,5])"
      ],
      "metadata": {
        "id": "I15jamxse6R6"
      },
      "execution_count": 59,
      "outputs": []
    },
    {
      "cell_type": "code",
      "source": [
        "tes.size"
      ],
      "metadata": {
        "colab": {
          "base_uri": "https://localhost:8080/"
        },
        "id": "2lShCpFqfkgg",
        "outputId": "5c3dfd38-3832-44e2-e786-d2101f52852d"
      },
      "execution_count": 60,
      "outputs": [
        {
          "output_type": "execute_result",
          "data": {
            "text/plain": [
              "7"
            ]
          },
          "metadata": {},
          "execution_count": 60
        }
      ]
    },
    {
      "cell_type": "code",
      "source": [
        "tes.count()"
      ],
      "metadata": {
        "colab": {
          "base_uri": "https://localhost:8080/"
        },
        "id": "dBPpf47Hfm0C",
        "outputId": "8ada1dfc-0d1e-44b6-d45c-b6eb87e461c9"
      },
      "execution_count": 61,
      "outputs": [
        {
          "output_type": "execute_result",
          "data": {
            "text/plain": [
              "6"
            ]
          },
          "metadata": {},
          "execution_count": 61
        }
      ]
    },
    {
      "cell_type": "code",
      "source": [
        "tes.hasnans"
      ],
      "metadata": {
        "colab": {
          "base_uri": "https://localhost:8080/"
        },
        "id": "XQMcPuClfpN5",
        "outputId": "81ff33c9-a037-442b-98cb-472684d6f684"
      },
      "execution_count": 62,
      "outputs": [
        {
          "output_type": "execute_result",
          "data": {
            "text/plain": [
              "True"
            ]
          },
          "metadata": {},
          "execution_count": 62
        }
      ]
    },
    {
      "cell_type": "code",
      "source": [],
      "metadata": {
        "id": "nCsqDSKqgI3p"
      },
      "execution_count": 62,
      "outputs": []
    }
  ]
}